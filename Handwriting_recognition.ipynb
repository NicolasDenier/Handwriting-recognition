{
  "nbformat": 4,
  "nbformat_minor": 0,
  "metadata": {
    "colab": {
      "provenance": [],
      "include_colab_link": true
    },
    "kernelspec": {
      "name": "python3",
      "display_name": "Python 3"
    },
    "language_info": {
      "name": "python"
    },
    "accelerator": "GPU",
    "gpuClass": "standard"
  },
  "cells": [
    {
      "cell_type": "markdown",
      "metadata": {
        "id": "view-in-github",
        "colab_type": "text"
      },
      "source": [
        "<a href=\"https://colab.research.google.com/github/NicolasDenier/Handwriting-recognition/blob/main/Handwriting_recognition.ipynb\" target=\"_parent\"><img src=\"https://colab.research.google.com/assets/colab-badge.svg\" alt=\"Open In Colab\"/></a>"
      ]
    },
    {
      "cell_type": "code",
      "source": [
        "import matplotlib.pyplot as plt\n",
        "from matplotlib import image\n",
        "import numpy as np\n",
        "import pandas as pd \n",
        "import os\n",
        "import random\n",
        "import tensorflow as tf\n",
        "from tensorflow import keras\n",
        "from tensorflow.keras.models import Sequential\n",
        "from tensorflow.keras.layers import Dense, Conv2D, MaxPooling2D, Flatten, Reshape, Dropout, RandomRotation, RandomZoom, GaussianNoise"
      ],
      "metadata": {
        "id": "2Esp-XyFlcva"
      },
      "execution_count": 96,
      "outputs": []
    },
    {
      "cell_type": "code",
      "source": [
        "from google.colab import drive\n",
        "drive.mount('/content/drive')"
      ],
      "metadata": {
        "id": "eiHuBwrOrMIr",
        "colab": {
          "base_uri": "https://localhost:8080/"
        },
        "outputId": "314042d1-f4dd-42c8-c668-4bcbec0e0e79"
      },
      "execution_count": 3,
      "outputs": [
        {
          "output_type": "stream",
          "name": "stdout",
          "text": [
            "Mounted at /content/drive\n"
          ]
        }
      ]
    },
    {
      "cell_type": "code",
      "source": [
        "# Metadata: label and path of each image\n",
        "characters_data_url = \"drive/My Drive/Colab Notebooks/OCR-data/characters/\"\n",
        "characters = pd.read_csv(characters_data_url + \"english.csv\")\n",
        "characters.head()"
      ],
      "metadata": {
        "colab": {
          "base_uri": "https://localhost:8080/",
          "height": 206
        },
        "id": "1PJ5FlHDmLvi",
        "outputId": "7a92836f-2d22-4eb3-f174-a1a57d05ade5"
      },
      "execution_count": 97,
      "outputs": [
        {
          "output_type": "execute_result",
          "data": {
            "text/plain": [
              "                image label\n",
              "0  Img/img001-001.png     0\n",
              "1  Img/img001-002.png     0\n",
              "2  Img/img001-003.png     0\n",
              "3  Img/img001-004.png     0\n",
              "4  Img/img001-005.png     0"
            ],
            "text/html": [
              "\n",
              "  <div id=\"df-6fa581bc-cf1d-4835-928c-e9d4d46dec01\">\n",
              "    <div class=\"colab-df-container\">\n",
              "      <div>\n",
              "<style scoped>\n",
              "    .dataframe tbody tr th:only-of-type {\n",
              "        vertical-align: middle;\n",
              "    }\n",
              "\n",
              "    .dataframe tbody tr th {\n",
              "        vertical-align: top;\n",
              "    }\n",
              "\n",
              "    .dataframe thead th {\n",
              "        text-align: right;\n",
              "    }\n",
              "</style>\n",
              "<table border=\"1\" class=\"dataframe\">\n",
              "  <thead>\n",
              "    <tr style=\"text-align: right;\">\n",
              "      <th></th>\n",
              "      <th>image</th>\n",
              "      <th>label</th>\n",
              "    </tr>\n",
              "  </thead>\n",
              "  <tbody>\n",
              "    <tr>\n",
              "      <th>0</th>\n",
              "      <td>Img/img001-001.png</td>\n",
              "      <td>0</td>\n",
              "    </tr>\n",
              "    <tr>\n",
              "      <th>1</th>\n",
              "      <td>Img/img001-002.png</td>\n",
              "      <td>0</td>\n",
              "    </tr>\n",
              "    <tr>\n",
              "      <th>2</th>\n",
              "      <td>Img/img001-003.png</td>\n",
              "      <td>0</td>\n",
              "    </tr>\n",
              "    <tr>\n",
              "      <th>3</th>\n",
              "      <td>Img/img001-004.png</td>\n",
              "      <td>0</td>\n",
              "    </tr>\n",
              "    <tr>\n",
              "      <th>4</th>\n",
              "      <td>Img/img001-005.png</td>\n",
              "      <td>0</td>\n",
              "    </tr>\n",
              "  </tbody>\n",
              "</table>\n",
              "</div>\n",
              "      <button class=\"colab-df-convert\" onclick=\"convertToInteractive('df-6fa581bc-cf1d-4835-928c-e9d4d46dec01')\"\n",
              "              title=\"Convert this dataframe to an interactive table.\"\n",
              "              style=\"display:none;\">\n",
              "        \n",
              "  <svg xmlns=\"http://www.w3.org/2000/svg\" height=\"24px\"viewBox=\"0 0 24 24\"\n",
              "       width=\"24px\">\n",
              "    <path d=\"M0 0h24v24H0V0z\" fill=\"none\"/>\n",
              "    <path d=\"M18.56 5.44l.94 2.06.94-2.06 2.06-.94-2.06-.94-.94-2.06-.94 2.06-2.06.94zm-11 1L8.5 8.5l.94-2.06 2.06-.94-2.06-.94L8.5 2.5l-.94 2.06-2.06.94zm10 10l.94 2.06.94-2.06 2.06-.94-2.06-.94-.94-2.06-.94 2.06-2.06.94z\"/><path d=\"M17.41 7.96l-1.37-1.37c-.4-.4-.92-.59-1.43-.59-.52 0-1.04.2-1.43.59L10.3 9.45l-7.72 7.72c-.78.78-.78 2.05 0 2.83L4 21.41c.39.39.9.59 1.41.59.51 0 1.02-.2 1.41-.59l7.78-7.78 2.81-2.81c.8-.78.8-2.07 0-2.86zM5.41 20L4 18.59l7.72-7.72 1.47 1.35L5.41 20z\"/>\n",
              "  </svg>\n",
              "      </button>\n",
              "      \n",
              "  <style>\n",
              "    .colab-df-container {\n",
              "      display:flex;\n",
              "      flex-wrap:wrap;\n",
              "      gap: 12px;\n",
              "    }\n",
              "\n",
              "    .colab-df-convert {\n",
              "      background-color: #E8F0FE;\n",
              "      border: none;\n",
              "      border-radius: 50%;\n",
              "      cursor: pointer;\n",
              "      display: none;\n",
              "      fill: #1967D2;\n",
              "      height: 32px;\n",
              "      padding: 0 0 0 0;\n",
              "      width: 32px;\n",
              "    }\n",
              "\n",
              "    .colab-df-convert:hover {\n",
              "      background-color: #E2EBFA;\n",
              "      box-shadow: 0px 1px 2px rgba(60, 64, 67, 0.3), 0px 1px 3px 1px rgba(60, 64, 67, 0.15);\n",
              "      fill: #174EA6;\n",
              "    }\n",
              "\n",
              "    [theme=dark] .colab-df-convert {\n",
              "      background-color: #3B4455;\n",
              "      fill: #D2E3FC;\n",
              "    }\n",
              "\n",
              "    [theme=dark] .colab-df-convert:hover {\n",
              "      background-color: #434B5C;\n",
              "      box-shadow: 0px 1px 3px 1px rgba(0, 0, 0, 0.15);\n",
              "      filter: drop-shadow(0px 1px 2px rgba(0, 0, 0, 0.3));\n",
              "      fill: #FFFFFF;\n",
              "    }\n",
              "  </style>\n",
              "\n",
              "      <script>\n",
              "        const buttonEl =\n",
              "          document.querySelector('#df-6fa581bc-cf1d-4835-928c-e9d4d46dec01 button.colab-df-convert');\n",
              "        buttonEl.style.display =\n",
              "          google.colab.kernel.accessAllowed ? 'block' : 'none';\n",
              "\n",
              "        async function convertToInteractive(key) {\n",
              "          const element = document.querySelector('#df-6fa581bc-cf1d-4835-928c-e9d4d46dec01');\n",
              "          const dataTable =\n",
              "            await google.colab.kernel.invokeFunction('convertToInteractive',\n",
              "                                                     [key], {});\n",
              "          if (!dataTable) return;\n",
              "\n",
              "          const docLinkHtml = 'Like what you see? Visit the ' +\n",
              "            '<a target=\"_blank\" href=https://colab.research.google.com/notebooks/data_table.ipynb>data table notebook</a>'\n",
              "            + ' to learn more about interactive tables.';\n",
              "          element.innerHTML = '';\n",
              "          dataTable['output_type'] = 'display_data';\n",
              "          await google.colab.output.renderOutput(dataTable, element);\n",
              "          const docLink = document.createElement('div');\n",
              "          docLink.innerHTML = docLinkHtml;\n",
              "          element.appendChild(docLink);\n",
              "        }\n",
              "      </script>\n",
              "    </div>\n",
              "  </div>\n",
              "  "
            ]
          },
          "metadata": {},
          "execution_count": 97
        }
      ]
    },
    {
      "cell_type": "code",
      "source": [
        "# Show a single image to have an idea of the data\n",
        "img = image.imread(characters_data_url+characters['image'][1234])\n",
        "print(img.shape)\n",
        "plt.tick_params(left = False, right = False , labelleft = False ,labelbottom = False, bottom = False)\n",
        "plt.imshow(img)\n",
        "plt.show()"
      ],
      "metadata": {
        "colab": {
          "base_uri": "https://localhost:8080/",
          "height": 266
        },
        "id": "KpCxwle3o1aT",
        "outputId": "04bb1151-9c84-42fa-a84e-396e0aedfaa1"
      },
      "execution_count": 98,
      "outputs": [
        {
          "output_type": "stream",
          "name": "stdout",
          "text": [
            "(900, 1200, 3)\n"
          ]
        },
        {
          "output_type": "display_data",
          "data": {
            "text/plain": [
              "<Figure size 432x288 with 1 Axes>"
            ],
            "image/png": "[encoded data removed]"
          },
          "metadata": {}
        }
      ]
    },
    {
      "cell_type": "code",
      "source": [
        "print(np.min(img), np.max(img))"
      ],
      "metadata": {
        "id": "d_rtA8KwtjcV",
        "outputId": "3d903280-2846-435b-b418-6721d5e7fa3d",
        "colab": {
          "base_uri": "https://localhost:8080/"
        }
      },
      "execution_count": 99,
      "outputs": [
        {
          "output_type": "stream",
          "name": "stdout",
          "text": [
            "0.0 1.0\n"
          ]
        }
      ]
    },
    {
      "cell_type": "code",
      "source": [
        "# Number of images in a batch\n",
        "batch_size = 64\n",
        "# The desired image size\n",
        "img_height = 90\n",
        "img_width = 120\n",
        "SEED=22"
      ],
      "metadata": {
        "id": "J4lBptM52GHi"
      },
      "execution_count": 223,
      "outputs": []
    },
    {
      "cell_type": "code",
      "source": [
        "classes = characters['label'].unique() # list of classes\n",
        "num_classes=len(characters['label'].unique()) # number of classes (10 diits + 26 lowercase + 26 uppercase = 62)\n",
        "label_to_int = {classes[i]:i for i in range(num_classes)} # dict to get an unique id as int for each class\n",
        "int_to_label = {value:key for key, value in label_to_int.items()} # dict to get back a string label from an int\n",
        "labels = [label_to_int[l] for l in characters['label']] # list of labels as int"
      ],
      "metadata": {
        "id": "-IY2KtnowRdx"
      },
      "execution_count": 224,
      "outputs": []
    },
    {
      "cell_type": "code",
      "source": [
        "# Prepare the data stream batches (it avoids to overload the RAM)\n",
        "train_ds = tf.keras.utils.image_dataset_from_directory(\n",
        "    characters_data_url,\n",
        "    labels = labels,\n",
        "    batch_size = batch_size,\n",
        "    image_size = (img_height, img_width),\n",
        "    color_mode = 'grayscale',\n",
        "    seed=SEED,\n",
        "    validation_split = 0.2,\n",
        "    shuffle=True,\n",
        "    subset = \"training\"\n",
        "    )\n",
        "\n",
        "# For some reason the labels are definitely shuffled and need to be redefined\n",
        "labels = [label_to_int[l] for l in characters['label']]\n",
        "\n",
        "val_ds = tf.keras.utils.image_dataset_from_directory(\n",
        "    characters_data_url,\n",
        "    labels = labels,\n",
        "    batch_size = batch_size,\n",
        "    image_size = (img_height, img_width),\n",
        "    color_mode = 'grayscale',\n",
        "    seed=SEED,\n",
        "    validation_split = 0.2,\n",
        "    shuffle=True,\n",
        "    subset = \"validation\"\n",
        "    )\n"
      ],
      "metadata": {
        "colab": {
          "base_uri": "https://localhost:8080/"
        },
        "id": "M5cbn1qg5lwx",
        "outputId": "71c337b3-6905-46e7-de2f-79fdea4eac8b"
      },
      "execution_count": 225,
      "outputs": [
        {
          "output_type": "stream",
          "name": "stdout",
          "text": [
            "Found 3410 files belonging to 1 classes.\n",
            "Using 2728 files for training.\n",
            "Found 3410 files belonging to 1 classes.\n",
            "Using 682 files for validation.\n"
          ]
        }
      ]
    },
    {
      "cell_type": "code",
      "source": [
        "# Check that the labels are correct\n",
        "def plot_char(image, title):\n",
        "  plt.figure(figsize=(2, 2))\n",
        "  plt.imshow(np.reshape(image,(img_height, img_width)), cmap=\"gray\")\n",
        "  plt.axis('off')\n",
        "  plt.title(title, fontsize=20)\n",
        "  plt.show()\n",
        "\n",
        "for image, label in val_ds:\n",
        "    print(image.shape)\n",
        "    print(label.shape)\n",
        "    for i in range(3):\n",
        "      title=int_to_label[label.numpy()[i]]\n",
        "      plot_char(image[i], title)\n",
        "    break"
      ],
      "metadata": {
        "colab": {
          "base_uri": "https://localhost:8080/",
          "height": 410
        },
        "id": "9xgftWwY5F0I",
        "outputId": "0a0ed06c-805b-4c9b-de33-26e33e224875"
      },
      "execution_count": 226,
      "outputs": [
        {
          "output_type": "stream",
          "name": "stdout",
          "text": [
            "(64, 90, 120, 1)\n",
            "(64,)\n"
          ]
        },
        {
          "output_type": "display_data",
          "data": {
            "text/plain": [
              "<Figure size 144x144 with 1 Axes>"
            ],
            "image/png": "[encoded data removed]"
          },
          "metadata": {
            "needs_background": "light"
          }
        },
        {
          "output_type": "display_data",
          "data": {
            "text/plain": [
              "<Figure size 144x144 with 1 Axes>"
            ],
            "image/png": "[encoded data removed]"
          },
          "metadata": {
            "needs_background": "light"
          }
        },
        {
          "output_type": "display_data",
          "data": {
            "text/plain": [
              "<Figure size 144x144 with 1 Axes>"
            ],
            "image/png": "[encoded data removed]"
          },
          "metadata": {
            "needs_background": "light"
          }
        }
      ]
    },
    {
      "cell_type": "code",
      "source": [
        "# Better memory performances\n",
        "AUTOTUNE = tf.data.AUTOTUNE\n",
        "\n",
        "train_ds = train_ds.cache().shuffle(1000, seed=SEED).prefetch(buffer_size=AUTOTUNE)\n",
        "val_ds = val_ds.cache().prefetch(buffer_size=AUTOTUNE)"
      ],
      "metadata": {
        "id": "HI6Y0y2uVa-G"
      },
      "execution_count": 227,
      "outputs": []
    },
    {
      "cell_type": "markdown",
      "source": [
        "## First model"
      ],
      "metadata": {
        "id": "F4lFD5K0j_Bd"
      }
    },
    {
      "cell_type": "code",
      "source": [
        "img_shape = (img_height, img_width, 1)\n",
        "\n",
        "# define model\n",
        "model1 = Sequential([\n",
        "    Conv2D(16, padding='same', kernel_size=(3,3), activation='relu', input_shape=img_shape),\n",
        "    MaxPooling2D(padding='same'),\n",
        "    Conv2D(32, kernel_size=(3,3), activation='relu'),\n",
        "    MaxPooling2D(),\n",
        "    Conv2D(64, kernel_size=(3,3), activation='relu'),\n",
        "    MaxPooling2D(),\n",
        "    Flatten(),\n",
        "    Dense(128, activation='relu'),\n",
        "    Dense(num_classes, activation='softmax')\n",
        "])"
      ],
      "metadata": {
        "id": "qPrC7rHfj-E6"
      },
      "execution_count": 228,
      "outputs": []
    },
    {
      "cell_type": "code",
      "source": [
        "# compile\n",
        "learning_rate = 1e-3\n",
        "model1.compile(\n",
        "    optimizer=tf.keras.optimizers.Adam(learning_rate=learning_rate),\n",
        "    loss='sparse_categorical_crossentropy',\n",
        "    metrics=['accuracy']\n",
        "  )"
      ],
      "metadata": {
        "id": "LbZ-ptdbk5dy"
      },
      "execution_count": 229,
      "outputs": []
    },
    {
      "cell_type": "code",
      "source": [
        "# fit\n",
        "MODEL_NAME = 'base_model'\n",
        "logs = {}\n",
        "EPOCHS = 10\n",
        "logs[MODEL_NAME] = model1.fit(\n",
        "    train_ds,\n",
        "    validation_data = val_ds,\n",
        "    epochs = EPOCHS,\n",
        ")"
      ],
      "metadata": {
        "colab": {
          "base_uri": "https://localhost:8080/"
        },
        "id": "nfImaMK_WDJp",
        "outputId": "3e39d0b6-ee0e-498d-d329-a0c3b723854e"
      },
      "execution_count": 230,
      "outputs": [
        {
          "output_type": "stream",
          "name": "stdout",
          "text": [
            "Epoch 1/10\n",
            "43/43 [==============================] - 26s 139ms/step - loss: 17.5195 - accuracy: 0.0363 - val_loss: 4.0640 - val_accuracy: 0.0557\n",
            "Epoch 2/10\n",
            "43/43 [==============================] - 1s 16ms/step - loss: 3.2649 - accuracy: 0.2082 - val_loss: 2.6964 - val_accuracy: 0.3123\n",
            "Epoch 3/10\n",
            "43/43 [==============================] - 1s 15ms/step - loss: 1.7210 - accuracy: 0.5524 - val_loss: 2.1476 - val_accuracy: 0.4516\n",
            "Epoch 4/10\n",
            "43/43 [==============================] - 1s 15ms/step - loss: 0.9149 - accuracy: 0.7500 - val_loss: 2.0119 - val_accuracy: 0.4897\n",
            "Epoch 5/10\n",
            "43/43 [==============================] - 1s 15ms/step - loss: 0.4747 - accuracy: 0.8655 - val_loss: 2.3077 - val_accuracy: 0.4985\n",
            "Epoch 6/10\n",
            "43/43 [==============================] - 1s 15ms/step - loss: 0.2195 - accuracy: 0.9439 - val_loss: 2.3301 - val_accuracy: 0.5528\n",
            "Epoch 7/10\n",
            "43/43 [==============================] - 1s 15ms/step - loss: 0.1097 - accuracy: 0.9743 - val_loss: 2.4691 - val_accuracy: 0.5323\n",
            "Epoch 8/10\n",
            "43/43 [==============================] - 1s 15ms/step - loss: 0.0598 - accuracy: 0.9912 - val_loss: 2.5402 - val_accuracy: 0.5704\n",
            "Epoch 9/10\n",
            "43/43 [==============================] - 1s 15ms/step - loss: 0.0217 - accuracy: 0.9956 - val_loss: 2.6277 - val_accuracy: 0.5762\n",
            "Epoch 10/10\n",
            "43/43 [==============================] - 1s 15ms/step - loss: 0.0186 - accuracy: 0.9952 - val_loss: 2.7629 - val_accuracy: 0.5674\n"
          ]
        }
      ]
    },
    {
      "cell_type": "code",
      "source": [
        "def plot_graphs(history):\n",
        "  for metric in ['accuracy', 'loss']:\n",
        "    plt.figure(figsize=(8, 4))\n",
        "    plt.plot(history.history[metric])\n",
        "    plt.plot(history.history['val_'+metric])\n",
        "    plt.xlabel(\"Epochs\")\n",
        "    plt.ylabel(metric)\n",
        "    plt.legend([metric, 'val_'+metric])\n",
        "    plt.show()"
      ],
      "metadata": {
        "id": "V2_HsdUv744Q"
      },
      "execution_count": 92,
      "outputs": []
    },
    {
      "cell_type": "code",
      "source": [
        "plot_graphs(logs[MODEL_NAME])"
      ],
      "metadata": {
        "colab": {
          "base_uri": "https://localhost:8080/",
          "height": 541
        },
        "id": "-CTH9bO178Ca",
        "outputId": "3f1ebfce-fcbd-4a1c-d396-f12e1c2da043"
      },
      "execution_count": 231,
      "outputs": [
        {
          "output_type": "display_data",
          "data": {
            "text/plain": [
              "<Figure size 576x288 with 1 Axes>"
            ],
            "image/png": "[encoded data removed]"
          },
          "metadata": {
            "needs_background": "light"
          }
        },
        {
          "output_type": "display_data",
          "data": {
            "text/plain": [
              "<Figure size 576x288 with 1 Axes>"
            ],
            "image/png": "[encoded data removed]"
          },
          "metadata": {
            "needs_background": "light"
          }
        }
      ]
    },
    {
      "cell_type": "markdown",
      "source": [
        "## More complex model\n",
        "Adding 1 layer with more nodes, changing kernel size"
      ],
      "metadata": {
        "id": "B7nQemvjkF12"
      }
    },
    {
      "cell_type": "code",
      "source": [
        "def parallel_conv(filters, input_shape):\n",
        "    input_shape = tf.keras.Input(shape=input_shape)\n",
        "\n",
        "    conv_1 = Conv2D(filters, (7, 7), padding='same', activation='relu')(input_shape)\n",
        "    conv_1 = MaxPooling2D(strides=(1, 1), padding='same')(conv_1)\n",
        "\n",
        "    conv_2 = Conv2D(filters, (5, 5), padding='same', activation='relu')(input_shape)\n",
        "    conv_2 = MaxPooling2D(strides=(1, 1), padding='same')(conv_2)\n",
        "\n",
        "    conv_3 = Conv2D(filters, (3, 3), padding='same', activation='relu')(input_shape)\n",
        "    conv_3 = MaxPooling2D(strides=(1, 1), padding='same')(conv_3)\n",
        "\n",
        "    merged = keras.layers.concatenate([conv_1, conv_2, conv_3], axis=1)\n",
        "    out = MaxPooling2D()(merged)\n",
        "\n",
        "    model = tf.keras.Model(input_shape, out)\n",
        "    return model\n",
        "\n",
        "model2 = Sequential([\n",
        "    Conv2D(16, padding='same', kernel_size=(9,9), activation='relu', input_shape=img_shape),\n",
        "    MaxPooling2D(padding='same'),\n",
        "    #Conv2D(32, kernel_size=(5,5), activation='relu'),\n",
        "    #MaxPooling2D(),\n",
        "    parallel_conv(32, input_shape=(45,60,16)),\n",
        "    parallel_conv(64, input_shape=( 67, 30, 32)),\n",
        "    #Conv2D(64, kernel_size=(5,5), activation='relu'),\n",
        "    #MaxPooling2D(),\n",
        "    Conv2D(128, kernel_size=(3,3), activation='relu'),\n",
        "    MaxPooling2D(),\n",
        "    Flatten(),\n",
        "    Dense(256, activation='relu'),\n",
        "    Dense(num_classes, activation='softmax')\n",
        "])\n",
        "\n",
        "model2.compile(\n",
        "    optimizer=tf.keras.optimizers.Adam(learning_rate=learning_rate),\n",
        "    loss='sparse_categorical_crossentropy',\n",
        "    metrics=['accuracy']\n",
        "  )\n",
        "\n",
        "model2.summary()"
      ],
      "metadata": {
        "id": "wJlZFUMRhL4B",
        "outputId": "923d7f31-6b69-444f-f447-00b58effbc4a",
        "colab": {
          "base_uri": "https://localhost:8080/"
        }
      },
      "execution_count": 289,
      "outputs": [
        {
          "output_type": "stream",
          "name": "stdout",
          "text": [
            "Model: \"sequential_67\"\n",
            "_________________________________________________________________\n",
            " Layer (type)                Output Shape              Param #   \n",
            "=================================================================\n",
            " conv2d_283 (Conv2D)         (None, 90, 120, 16)       1312      \n",
            "                                                                 \n",
            " max_pooling2d_292 (MaxPooli  (None, 45, 60, 16)       0         \n",
            " ng2D)                                                           \n",
            "                                                                 \n",
            " model_10 (Functional)       (None, 67, 30, 32)        42592     \n",
            "                                                                 \n",
            " model_11 (Functional)       (None, 100, 15, 64)       170176    \n",
            "                                                                 \n",
            " conv2d_290 (Conv2D)         (None, 98, 13, 128)       73856     \n",
            "                                                                 \n",
            " max_pooling2d_301 (MaxPooli  (None, 49, 6, 128)       0         \n",
            " ng2D)                                                           \n",
            "                                                                 \n",
            " flatten_68 (Flatten)        (None, 37632)             0         \n",
            "                                                                 \n",
            " dense_126 (Dense)           (None, 256)               9634048   \n",
            "                                                                 \n",
            " dense_127 (Dense)           (None, 62)                15934     \n",
            "                                                                 \n",
            "=================================================================\n",
            "Total params: 9,937,918\n",
            "Trainable params: 9,937,918\n",
            "Non-trainable params: 0\n",
            "_________________________________________________________________\n"
          ]
        }
      ]
    },
    {
      "cell_type": "code",
      "source": [
        "# fit\n",
        "MODEL_NAME = 'more_complex'\n",
        "\n",
        "logs[MODEL_NAME] = model2.fit(\n",
        "    train_ds,\n",
        "    validation_data = val_ds,\n",
        "    epochs = EPOCHS,\n",
        ")"
      ],
      "metadata": {
        "colab": {
          "base_uri": "https://localhost:8080/"
        },
        "id": "gASu-f49hstT",
        "outputId": "2699032c-1b0a-442e-f3c7-045fbea70b06"
      },
      "execution_count": 290,
      "outputs": [
        {
          "output_type": "stream",
          "name": "stdout",
          "text": [
            "Epoch 1/10\n",
            "43/43 [==============================] - 7s 114ms/step - loss: 28.4964 - accuracy: 0.0407 - val_loss: 3.8847 - val_accuracy: 0.1129\n",
            "Epoch 2/10\n",
            "43/43 [==============================] - 4s 84ms/step - loss: 3.0764 - accuracy: 0.2397 - val_loss: 2.2739 - val_accuracy: 0.4194\n",
            "Epoch 3/10\n",
            "43/43 [==============================] - 4s 84ms/step - loss: 1.6009 - accuracy: 0.5587 - val_loss: 1.4235 - val_accuracy: 0.6085\n",
            "Epoch 4/10\n",
            "43/43 [==============================] - 4s 84ms/step - loss: 0.8526 - accuracy: 0.7643 - val_loss: 1.3188 - val_accuracy: 0.6364\n",
            "Epoch 5/10\n",
            "43/43 [==============================] - 4s 85ms/step - loss: 0.4882 - accuracy: 0.8530 - val_loss: 1.2049 - val_accuracy: 0.6950\n",
            "Epoch 6/10\n",
            "43/43 [==============================] - 4s 85ms/step - loss: 0.2478 - accuracy: 0.9300 - val_loss: 1.1409 - val_accuracy: 0.7170\n",
            "Epoch 7/10\n",
            "43/43 [==============================] - 4s 85ms/step - loss: 0.1339 - accuracy: 0.9641 - val_loss: 1.2735 - val_accuracy: 0.6818\n",
            "Epoch 8/10\n",
            "43/43 [==============================] - 4s 86ms/step - loss: 0.1075 - accuracy: 0.9703 - val_loss: 1.1326 - val_accuracy: 0.7361\n",
            "Epoch 9/10\n",
            "43/43 [==============================] - 4s 85ms/step - loss: 0.0696 - accuracy: 0.9809 - val_loss: 1.0437 - val_accuracy: 0.7405\n",
            "Epoch 10/10\n",
            "43/43 [==============================] - 4s 86ms/step - loss: 0.0390 - accuracy: 0.9901 - val_loss: 1.1216 - val_accuracy: 0.7361\n"
          ]
        }
      ]
    },
    {
      "cell_type": "code",
      "source": [
        "plot_graphs(logs[MODEL_NAME])"
      ],
      "metadata": {
        "colab": {
          "base_uri": "https://localhost:8080/",
          "height": 541
        },
        "id": "9l8dIZEXh1B8",
        "outputId": "6a479d83-5eea-457d-eb49-6cb3318136e1"
      },
      "execution_count": 279,
      "outputs": [
        {
          "output_type": "display_data",
          "data": {
            "text/plain": [
              "<Figure size 576x288 with 1 Axes>"
            ],
            "image/png": "[encoded data removed]"
          },
          "metadata": {
            "needs_background": "light"
          }
        },
        {
          "output_type": "display_data",
          "data": {
            "text/plain": [
              "<Figure size 576x288 with 1 Axes>"
            ],
            "image/png": "[encoded data removed]"
          },
          "metadata": {
            "needs_background": "light"
          }
        }
      ]
    },
    {
      "cell_type": "markdown",
      "source": [
        "## Adding dropout\n",
        "implies to train for more epochs to reach similar accuracy"
      ],
      "metadata": {
        "id": "gdSBJRZ8kdSl"
      }
    },
    {
      "cell_type": "code",
      "source": [
        "model3 = Sequential([\n",
        "    Conv2D(16, padding='same', kernel_size=(7,7), activation='relu', input_shape=img_shape),\n",
        "    Dropout(0.5, seed=SEED),\n",
        "    MaxPooling2D(padding='same'),\n",
        "    Dropout(0.4, seed=SEED),\n",
        "    Conv2D(32, kernel_size=(5,5), activation='relu'),\n",
        "    Dropout(0.5, seed=SEED),\n",
        "    MaxPooling2D(),\n",
        "    Dropout(0.4, seed=SEED),\n",
        "    Conv2D(64, kernel_size=(5,5), activation='relu'),\n",
        "    MaxPooling2D(),\n",
        "    Dropout(0.4, seed=SEED),\n",
        "    Conv2D(128, kernel_size=(3,3), activation='relu'),\n",
        "    MaxPooling2D(),\n",
        "    Flatten(),\n",
        "    Dense(256, activation='relu'),\n",
        "    Dense(num_classes, activation='softmax')\n",
        "])\n",
        "\n",
        "\n",
        "model3.compile(\n",
        "    optimizer=tf.keras.optimizers.Adam(learning_rate=learning_rate),\n",
        "    loss='sparse_categorical_crossentropy',\n",
        "    metrics=['accuracy']\n",
        "  )"
      ],
      "metadata": {
        "id": "QipHt_Q1j5sk"
      },
      "execution_count": 235,
      "outputs": []
    },
    {
      "cell_type": "code",
      "source": [
        "MODEL_NAME = 'dropout'\n",
        "EPOCHS=40\n",
        "\n",
        "logs[MODEL_NAME] = model3.fit(\n",
        "    train_ds,\n",
        "    validation_data = val_ds,\n",
        "    epochs = EPOCHS,\n",
        ")"
      ],
      "metadata": {
        "colab": {
          "base_uri": "https://localhost:8080/"
        },
        "id": "niTQqe2vl0Da",
        "outputId": "9fe76657-29e2-4d85-e306-e0c66a27c4ed"
      },
      "execution_count": 236,
      "outputs": [
        {
          "output_type": "stream",
          "name": "stdout",
          "text": [
            "Epoch 1/40\n",
            "43/43 [==============================] - 2s 26ms/step - loss: 35.3499 - accuracy: 0.0213 - val_loss: 4.1249 - val_accuracy: 0.0220\n",
            "Epoch 2/40\n",
            "43/43 [==============================] - 1s 22ms/step - loss: 4.1758 - accuracy: 0.0180 - val_loss: 4.1214 - val_accuracy: 0.0176\n",
            "Epoch 3/40\n",
            "43/43 [==============================] - 1s 22ms/step - loss: 4.0831 - accuracy: 0.0374 - val_loss: 4.1100 - val_accuracy: 0.0455\n",
            "Epoch 4/40\n",
            "43/43 [==============================] - 1s 22ms/step - loss: 3.9827 - accuracy: 0.0414 - val_loss: 4.0769 - val_accuracy: 0.0455\n",
            "Epoch 5/40\n",
            "43/43 [==============================] - 1s 22ms/step - loss: 3.7802 - accuracy: 0.0641 - val_loss: 4.0173 - val_accuracy: 0.0938\n",
            "Epoch 6/40\n",
            "43/43 [==============================] - 1s 22ms/step - loss: 3.5537 - accuracy: 0.1133 - val_loss: 3.9245 - val_accuracy: 0.1554\n",
            "Epoch 7/40\n",
            "43/43 [==============================] - 1s 22ms/step - loss: 3.2833 - accuracy: 0.1617 - val_loss: 3.8363 - val_accuracy: 0.1994\n",
            "Epoch 8/40\n",
            "43/43 [==============================] - 1s 22ms/step - loss: 3.0103 - accuracy: 0.2126 - val_loss: 3.6903 - val_accuracy: 0.2595\n",
            "Epoch 9/40\n",
            "43/43 [==============================] - 1s 22ms/step - loss: 2.6951 - accuracy: 0.2834 - val_loss: 3.5103 - val_accuracy: 0.3783\n",
            "Epoch 10/40\n",
            "43/43 [==============================] - 1s 24ms/step - loss: 2.4239 - accuracy: 0.3552 - val_loss: 3.4188 - val_accuracy: 0.3944\n",
            "Epoch 11/40\n",
            "43/43 [==============================] - 1s 22ms/step - loss: 2.2245 - accuracy: 0.3981 - val_loss: 3.3218 - val_accuracy: 0.4545\n",
            "Epoch 12/40\n",
            "43/43 [==============================] - 1s 22ms/step - loss: 2.0373 - accuracy: 0.4421 - val_loss: 3.1647 - val_accuracy: 0.4941\n",
            "Epoch 13/40\n",
            "43/43 [==============================] - 1s 22ms/step - loss: 1.8640 - accuracy: 0.4732 - val_loss: 3.0847 - val_accuracy: 0.5132\n",
            "Epoch 14/40\n",
            "43/43 [==============================] - 1s 22ms/step - loss: 1.7641 - accuracy: 0.5015 - val_loss: 2.9387 - val_accuracy: 0.5117\n",
            "Epoch 15/40\n",
            "43/43 [==============================] - 1s 22ms/step - loss: 1.6073 - accuracy: 0.5356 - val_loss: 2.8038 - val_accuracy: 0.5806\n",
            "Epoch 16/40\n",
            "43/43 [==============================] - 1s 22ms/step - loss: 1.4903 - accuracy: 0.5704 - val_loss: 2.7191 - val_accuracy: 0.5733\n",
            "Epoch 17/40\n",
            "43/43 [==============================] - 1s 22ms/step - loss: 1.4305 - accuracy: 0.5869 - val_loss: 2.7262 - val_accuracy: 0.5909\n",
            "Epoch 18/40\n",
            "43/43 [==============================] - 1s 22ms/step - loss: 1.3610 - accuracy: 0.6052 - val_loss: 2.5345 - val_accuracy: 0.5836\n",
            "Epoch 19/40\n",
            "43/43 [==============================] - 1s 22ms/step - loss: 1.2426 - accuracy: 0.6397 - val_loss: 2.5455 - val_accuracy: 0.6378\n",
            "Epoch 20/40\n",
            "43/43 [==============================] - 1s 22ms/step - loss: 1.2124 - accuracy: 0.6364 - val_loss: 2.4536 - val_accuracy: 0.6085\n",
            "Epoch 21/40\n",
            "43/43 [==============================] - 1s 22ms/step - loss: 1.1494 - accuracy: 0.6488 - val_loss: 2.4551 - val_accuracy: 0.6554\n",
            "Epoch 22/40\n",
            "43/43 [==============================] - 1s 22ms/step - loss: 1.0662 - accuracy: 0.6763 - val_loss: 2.2251 - val_accuracy: 0.6862\n",
            "Epoch 23/40\n",
            "43/43 [==============================] - 1s 22ms/step - loss: 1.0037 - accuracy: 0.6796 - val_loss: 2.1872 - val_accuracy: 0.6613\n",
            "Epoch 24/40\n",
            "43/43 [==============================] - 1s 22ms/step - loss: 0.9690 - accuracy: 0.6983 - val_loss: 2.1782 - val_accuracy: 0.6862\n",
            "Epoch 25/40\n",
            "43/43 [==============================] - 1s 22ms/step - loss: 0.8950 - accuracy: 0.7199 - val_loss: 2.0706 - val_accuracy: 0.6877\n",
            "Epoch 26/40\n",
            "43/43 [==============================] - 1s 22ms/step - loss: 0.8682 - accuracy: 0.7243 - val_loss: 2.0188 - val_accuracy: 0.6891\n",
            "Epoch 27/40\n",
            "43/43 [==============================] - 1s 22ms/step - loss: 0.8657 - accuracy: 0.7302 - val_loss: 2.0790 - val_accuracy: 0.6921\n",
            "Epoch 28/40\n",
            "43/43 [==============================] - 1s 22ms/step - loss: 0.8158 - accuracy: 0.7441 - val_loss: 1.9222 - val_accuracy: 0.6891\n",
            "Epoch 29/40\n",
            "43/43 [==============================] - 1s 22ms/step - loss: 0.7678 - accuracy: 0.7577 - val_loss: 1.9423 - val_accuracy: 0.7067\n",
            "Epoch 30/40\n",
            "43/43 [==============================] - 1s 22ms/step - loss: 0.7085 - accuracy: 0.7702 - val_loss: 1.7999 - val_accuracy: 0.7214\n",
            "Epoch 31/40\n",
            "43/43 [==============================] - 1s 22ms/step - loss: 0.6916 - accuracy: 0.7702 - val_loss: 1.8229 - val_accuracy: 0.7038\n",
            "Epoch 32/40\n",
            "43/43 [==============================] - 1s 22ms/step - loss: 0.6729 - accuracy: 0.7848 - val_loss: 1.7851 - val_accuracy: 0.7273\n",
            "Epoch 33/40\n",
            "43/43 [==============================] - 1s 22ms/step - loss: 0.6433 - accuracy: 0.7911 - val_loss: 1.6904 - val_accuracy: 0.6891\n",
            "Epoch 34/40\n",
            "43/43 [==============================] - 1s 22ms/step - loss: 0.6857 - accuracy: 0.7779 - val_loss: 1.7444 - val_accuracy: 0.7331\n",
            "Epoch 35/40\n",
            "43/43 [==============================] - 1s 22ms/step - loss: 0.6184 - accuracy: 0.7878 - val_loss: 1.6193 - val_accuracy: 0.7170\n",
            "Epoch 36/40\n",
            "43/43 [==============================] - 1s 22ms/step - loss: 0.5921 - accuracy: 0.7984 - val_loss: 1.6159 - val_accuracy: 0.7141\n",
            "Epoch 37/40\n",
            "43/43 [==============================] - 1s 22ms/step - loss: 0.5887 - accuracy: 0.8046 - val_loss: 1.6462 - val_accuracy: 0.7199\n",
            "Epoch 38/40\n",
            "43/43 [==============================] - 1s 22ms/step - loss: 0.5222 - accuracy: 0.8328 - val_loss: 1.4855 - val_accuracy: 0.7317\n",
            "Epoch 39/40\n",
            "43/43 [==============================] - 1s 22ms/step - loss: 0.5250 - accuracy: 0.8233 - val_loss: 1.5115 - val_accuracy: 0.7361\n",
            "Epoch 40/40\n",
            "43/43 [==============================] - 1s 22ms/step - loss: 0.5118 - accuracy: 0.8211 - val_loss: 1.4872 - val_accuracy: 0.7317\n"
          ]
        }
      ]
    },
    {
      "cell_type": "code",
      "source": [
        "plot_graphs(logs[MODEL_NAME])"
      ],
      "metadata": {
        "colab": {
          "base_uri": "https://localhost:8080/",
          "height": 541
        },
        "id": "LD2zj5mZl7Hb",
        "outputId": "9e847bcc-4f78-41fe-d3ca-04ccb5a69249"
      },
      "execution_count": 237,
      "outputs": [
        {
          "output_type": "display_data",
          "data": {
            "text/plain": [
              "<Figure size 576x288 with 1 Axes>"
            ],
            "image/png": "[encoded data removed]"
          },
          "metadata": {
            "needs_background": "light"
          }
        },
        {
          "output_type": "display_data",
          "data": {
            "text/plain": [
              "<Figure size 576x288 with 1 Axes>"
            ],
            "image/png": "[encoded data removed]"
          },
          "metadata": {
            "needs_background": "light"
          }
        }
      ]
    },
    {
      "cell_type": "markdown",
      "source": [
        "## Data augmentation"
      ],
      "metadata": {
        "id": "hT4xg-SJvre_"
      }
    },
    {
      "cell_type": "code",
      "source": [
        "data_augmentation = Sequential(\n",
        "  [\n",
        "    GaussianNoise(0.3),\n",
        "    RandomRotation((-0.1, 0.1), seed=SEED),\n",
        "    RandomZoom(0.1, 0.1,  seed=SEED),\n",
        "  ]\n",
        ")\n",
        "\n",
        "model4 = Sequential([\n",
        "    data_augmentation,\n",
        "    tf.keras.models.clone_model(model3)\n",
        "])\n",
        "\n",
        "model4.compile(\n",
        "    optimizer=tf.keras.optimizers.Adam(learning_rate=learning_rate),\n",
        "    loss='sparse_categorical_crossentropy',\n",
        "    metrics=['accuracy']\n",
        "  )\n"
      ],
      "metadata": {
        "id": "_yaMLwjQvvrO"
      },
      "execution_count": 238,
      "outputs": []
    },
    {
      "cell_type": "code",
      "source": [
        "MODEL_NAME = 'data_augmentation'\n",
        "\n",
        "EPOCHS=50\n",
        "logs[MODEL_NAME] = model4.fit(\n",
        "    train_ds,\n",
        "    validation_data = val_ds,\n",
        "    epochs = EPOCHS\n",
        ")"
      ],
      "metadata": {
        "colab": {
          "base_uri": "https://localhost:8080/"
        },
        "id": "5eJERiaEwkJ0",
        "outputId": "f567acd7-e07c-4970-96dd-a423e6065a4c"
      },
      "execution_count": 239,
      "outputs": [
        {
          "output_type": "stream",
          "name": "stdout",
          "text": [
            "Epoch 1/50\n",
            "43/43 [==============================] - 2s 27ms/step - loss: 37.7135 - accuracy: 0.0147 - val_loss: 4.1276 - val_accuracy: 0.0103\n",
            "Epoch 2/50\n",
            "43/43 [==============================] - 1s 24ms/step - loss: 4.1963 - accuracy: 0.0194 - val_loss: 4.1281 - val_accuracy: 0.0176\n",
            "Epoch 3/50\n",
            "43/43 [==============================] - 1s 24ms/step - loss: 4.1273 - accuracy: 0.0198 - val_loss: 4.1296 - val_accuracy: 0.0147\n",
            "Epoch 4/50\n",
            "43/43 [==============================] - 1s 23ms/step - loss: 4.1036 - accuracy: 0.0282 - val_loss: 4.1458 - val_accuracy: 0.0147\n",
            "Epoch 5/50\n",
            "43/43 [==============================] - 1s 23ms/step - loss: 4.0898 - accuracy: 0.0246 - val_loss: 4.1934 - val_accuracy: 0.0147\n",
            "Epoch 6/50\n",
            "43/43 [==============================] - 1s 23ms/step - loss: 4.0527 - accuracy: 0.0337 - val_loss: 4.2768 - val_accuracy: 0.0205\n",
            "Epoch 7/50\n",
            "43/43 [==============================] - 1s 23ms/step - loss: 3.9656 - accuracy: 0.0422 - val_loss: 4.5588 - val_accuracy: 0.0205\n",
            "Epoch 8/50\n",
            "43/43 [==============================] - 1s 23ms/step - loss: 3.8391 - accuracy: 0.0576 - val_loss: 4.9253 - val_accuracy: 0.0205\n",
            "Epoch 9/50\n",
            "43/43 [==============================] - 1s 23ms/step - loss: 3.7308 - accuracy: 0.0836 - val_loss: 5.1161 - val_accuracy: 0.0132\n",
            "Epoch 10/50\n",
            "43/43 [==============================] - 1s 23ms/step - loss: 3.6032 - accuracy: 0.0861 - val_loss: 5.3665 - val_accuracy: 0.0147\n",
            "Epoch 11/50\n",
            "43/43 [==============================] - 1s 23ms/step - loss: 3.5158 - accuracy: 0.0979 - val_loss: 5.6423 - val_accuracy: 0.0191\n",
            "Epoch 12/50\n",
            "43/43 [==============================] - 1s 23ms/step - loss: 3.4608 - accuracy: 0.0968 - val_loss: 5.6251 - val_accuracy: 0.0249\n",
            "Epoch 13/50\n",
            "43/43 [==============================] - 1s 25ms/step - loss: 3.4166 - accuracy: 0.1147 - val_loss: 5.7670 - val_accuracy: 0.0249\n",
            "Epoch 14/50\n",
            "43/43 [==============================] - 1s 23ms/step - loss: 3.3584 - accuracy: 0.1331 - val_loss: 5.3193 - val_accuracy: 0.0249\n",
            "Epoch 15/50\n",
            "43/43 [==============================] - 1s 23ms/step - loss: 3.2966 - accuracy: 0.1452 - val_loss: 5.2286 - val_accuracy: 0.0235\n",
            "Epoch 16/50\n",
            "43/43 [==============================] - 1s 24ms/step - loss: 3.2212 - accuracy: 0.1547 - val_loss: 5.2313 - val_accuracy: 0.0279\n",
            "Epoch 17/50\n",
            "43/43 [==============================] - 1s 23ms/step - loss: 3.1434 - accuracy: 0.1719 - val_loss: 4.7962 - val_accuracy: 0.0191\n",
            "Epoch 18/50\n",
            "43/43 [==============================] - 1s 23ms/step - loss: 3.0397 - accuracy: 0.1965 - val_loss: 4.4932 - val_accuracy: 0.0337\n",
            "Epoch 19/50\n",
            "43/43 [==============================] - 1s 23ms/step - loss: 2.9898 - accuracy: 0.2199 - val_loss: 5.1598 - val_accuracy: 0.0308\n",
            "Epoch 20/50\n",
            "43/43 [==============================] - 1s 23ms/step - loss: 2.9076 - accuracy: 0.2254 - val_loss: 4.8042 - val_accuracy: 0.0249\n",
            "Epoch 21/50\n",
            "43/43 [==============================] - 1s 23ms/step - loss: 2.8080 - accuracy: 0.2445 - val_loss: 4.3689 - val_accuracy: 0.0293\n",
            "Epoch 22/50\n",
            "43/43 [==============================] - 1s 23ms/step - loss: 2.6791 - accuracy: 0.2874 - val_loss: 4.4804 - val_accuracy: 0.0249\n",
            "Epoch 23/50\n",
            "43/43 [==============================] - 1s 23ms/step - loss: 2.5806 - accuracy: 0.2925 - val_loss: 4.0580 - val_accuracy: 0.0513\n",
            "Epoch 24/50\n",
            "43/43 [==============================] - 1s 23ms/step - loss: 2.5053 - accuracy: 0.3083 - val_loss: 3.7629 - val_accuracy: 0.0587\n",
            "Epoch 25/50\n",
            "43/43 [==============================] - 1s 23ms/step - loss: 2.3741 - accuracy: 0.3394 - val_loss: 4.0686 - val_accuracy: 0.0513\n",
            "Epoch 26/50\n",
            "43/43 [==============================] - 1s 23ms/step - loss: 2.3148 - accuracy: 0.3578 - val_loss: 3.5590 - val_accuracy: 0.1158\n",
            "Epoch 27/50\n",
            "43/43 [==============================] - 1s 23ms/step - loss: 2.1911 - accuracy: 0.3904 - val_loss: 3.2771 - val_accuracy: 0.1686\n",
            "Epoch 28/50\n",
            "43/43 [==============================] - 1s 23ms/step - loss: 2.0300 - accuracy: 0.4278 - val_loss: 3.3779 - val_accuracy: 0.1100\n",
            "Epoch 29/50\n",
            "43/43 [==============================] - 1s 23ms/step - loss: 1.9494 - accuracy: 0.4534 - val_loss: 3.0468 - val_accuracy: 0.2155\n",
            "Epoch 30/50\n",
            "43/43 [==============================] - 1s 24ms/step - loss: 1.8500 - accuracy: 0.4677 - val_loss: 2.9240 - val_accuracy: 0.2727\n",
            "Epoch 31/50\n",
            "43/43 [==============================] - 1s 23ms/step - loss: 1.8064 - accuracy: 0.4835 - val_loss: 3.2055 - val_accuracy: 0.1716\n",
            "Epoch 32/50\n",
            "43/43 [==============================] - 1s 23ms/step - loss: 1.7165 - accuracy: 0.5073 - val_loss: 2.7019 - val_accuracy: 0.3138\n",
            "Epoch 33/50\n",
            "43/43 [==============================] - 1s 23ms/step - loss: 1.6311 - accuracy: 0.5187 - val_loss: 2.4746 - val_accuracy: 0.3959\n",
            "Epoch 34/50\n",
            "43/43 [==============================] - 1s 23ms/step - loss: 1.6258 - accuracy: 0.5235 - val_loss: 2.6840 - val_accuracy: 0.3079\n",
            "Epoch 35/50\n",
            "43/43 [==============================] - 1s 23ms/step - loss: 1.5360 - accuracy: 0.5539 - val_loss: 2.5597 - val_accuracy: 0.3534\n",
            "Epoch 36/50\n",
            "43/43 [==============================] - 1s 23ms/step - loss: 1.5570 - accuracy: 0.5418 - val_loss: 2.6005 - val_accuracy: 0.3504\n",
            "Epoch 37/50\n",
            "43/43 [==============================] - 1s 23ms/step - loss: 1.5015 - accuracy: 0.5620 - val_loss: 2.3789 - val_accuracy: 0.4091\n",
            "Epoch 38/50\n",
            "43/43 [==============================] - 1s 23ms/step - loss: 1.4027 - accuracy: 0.5784 - val_loss: 2.2863 - val_accuracy: 0.4560\n",
            "Epoch 39/50\n",
            "43/43 [==============================] - 1s 23ms/step - loss: 1.4197 - accuracy: 0.5784 - val_loss: 2.3932 - val_accuracy: 0.4018\n",
            "Epoch 40/50\n",
            "43/43 [==============================] - 1s 25ms/step - loss: 1.3120 - accuracy: 0.6100 - val_loss: 2.2845 - val_accuracy: 0.4560\n",
            "Epoch 41/50\n",
            "43/43 [==============================] - 1s 23ms/step - loss: 1.3537 - accuracy: 0.5935 - val_loss: 2.1310 - val_accuracy: 0.4751\n",
            "Epoch 42/50\n",
            "43/43 [==============================] - 1s 23ms/step - loss: 1.2635 - accuracy: 0.6056 - val_loss: 2.0630 - val_accuracy: 0.5205\n",
            "Epoch 43/50\n",
            "43/43 [==============================] - 1s 23ms/step - loss: 1.2659 - accuracy: 0.6122 - val_loss: 2.0759 - val_accuracy: 0.5249\n",
            "Epoch 44/50\n",
            "43/43 [==============================] - 1s 23ms/step - loss: 1.1991 - accuracy: 0.6287 - val_loss: 2.0771 - val_accuracy: 0.4971\n",
            "Epoch 45/50\n",
            "43/43 [==============================] - 1s 23ms/step - loss: 1.2421 - accuracy: 0.6169 - val_loss: 1.9181 - val_accuracy: 0.5469\n",
            "Epoch 46/50\n",
            "43/43 [==============================] - 1s 23ms/step - loss: 1.1677 - accuracy: 0.6415 - val_loss: 1.8117 - val_accuracy: 0.5968\n",
            "Epoch 47/50\n",
            "43/43 [==============================] - 1s 23ms/step - loss: 1.1610 - accuracy: 0.6466 - val_loss: 2.0757 - val_accuracy: 0.5015\n",
            "Epoch 48/50\n",
            "43/43 [==============================] - 1s 23ms/step - loss: 1.1299 - accuracy: 0.6503 - val_loss: 1.9562 - val_accuracy: 0.5205\n",
            "Epoch 49/50\n",
            "43/43 [==============================] - 1s 23ms/step - loss: 1.1296 - accuracy: 0.6459 - val_loss: 1.9248 - val_accuracy: 0.5220\n",
            "Epoch 50/50\n",
            "43/43 [==============================] - 1s 23ms/step - loss: 1.0870 - accuracy: 0.6653 - val_loss: 2.0199 - val_accuracy: 0.5161\n"
          ]
        }
      ]
    },
    {
      "cell_type": "code",
      "source": [
        "plot_graphs(logs[MODEL_NAME])"
      ],
      "metadata": {
        "colab": {
          "base_uri": "https://localhost:8080/",
          "height": 541
        },
        "id": "nJUesghOyDne",
        "outputId": "7f0ad518-6c92-4333-d1ec-02ff099abe74"
      },
      "execution_count": 240,
      "outputs": [
        {
          "output_type": "display_data",
          "data": {
            "text/plain": [
              "<Figure size 576x288 with 1 Axes>"
            ],
            "image/png": "[encoded data removed]"
          },
          "metadata": {
            "needs_background": "light"
          }
        },
        {
          "output_type": "display_data",
          "data": {
            "text/plain": [
              "<Figure size 576x288 with 1 Axes>"
            ],
            "image/png": "[encoded data removed]"
          },
          "metadata": {
            "needs_background": "light"
          }
        }
      ]
    },
    {
      "cell_type": "markdown",
      "source": [
        "## Adjusting learning rate \n",
        "adding callbacks to adjust learning rate and do early stopping"
      ],
      "metadata": {
        "id": "Vc3jqIfKoOit"
      }
    },
    {
      "cell_type": "code",
      "source": [
        "# early stopping\n",
        "cb_EarlyStopping = tf.keras.callbacks.EarlyStopping(\n",
        "    monitor='val_loss',\n",
        "    min_delta=1e-4,\n",
        "    patience=10,\n",
        "    verbose=1,\n",
        "    restore_best_weights=True,\n",
        ")\n",
        "\n",
        "# learning rate scheduler\n",
        "def scheduler(epoch, lr):\n",
        "  if epoch < 40:\n",
        "    return lr\n",
        "  else:\n",
        "    return lr * tf.math.exp(-0.005*epoch)\n",
        "\n",
        "cb_LRScheduler = tf.keras.callbacks.LearningRateScheduler(scheduler)"
      ],
      "metadata": {
        "id": "X-nO0qfLol-e"
      },
      "execution_count": 218,
      "outputs": []
    },
    {
      "cell_type": "code",
      "source": [
        "model5=tf.keras.models.clone_model(model4)\n",
        "MODEL_NAME = 'adjusted_learning_rate'\n",
        "\n",
        "model5.compile(\n",
        "    optimizer=tf.keras.optimizers.Adam(learning_rate=learning_rate),\n",
        "    loss='sparse_categorical_crossentropy',\n",
        "    metrics=['accuracy']\n",
        "  )\n",
        "\n",
        "EPOCHS=80\n",
        "\n",
        "logs[MODEL_NAME] = model5.fit(\n",
        "    train_ds,\n",
        "    validation_data = val_ds,\n",
        "    epochs = EPOCHS,\n",
        "    callbacks=[cb_EarlyStopping, cb_LRScheduler]\n",
        ")"
      ],
      "metadata": {
        "colab": {
          "base_uri": "https://localhost:8080/"
        },
        "id": "Z3qRjA61otLO",
        "outputId": "bd46fb70-9d01-45d1-8b78-ce89ce802ce0"
      },
      "execution_count": 222,
      "outputs": [
        {
          "output_type": "stream",
          "name": "stdout",
          "text": [
            "Epoch 1/80\n",
            "44/44 [==============================] - 2s 29ms/step - loss: 64.9371 - accuracy: 0.0154 - val_loss: 4.1274 - val_accuracy: 0.0220 - lr: 0.0010\n",
            "Epoch 2/80\n",
            "44/44 [==============================] - 1s 24ms/step - loss: 4.2781 - accuracy: 0.0165 - val_loss: 4.1269 - val_accuracy: 0.0132 - lr: 0.0010\n",
            "Epoch 3/80\n",
            "44/44 [==============================] - 1s 25ms/step - loss: 4.1869 - accuracy: 0.0158 - val_loss: 4.1277 - val_accuracy: 0.0161 - lr: 0.0010\n",
            "Epoch 4/80\n",
            "44/44 [==============================] - 1s 23ms/step - loss: 4.1511 - accuracy: 0.0191 - val_loss: 4.1275 - val_accuracy: 0.0161 - lr: 0.0010\n",
            "Epoch 5/80\n",
            "44/44 [==============================] - 1s 23ms/step - loss: 4.1396 - accuracy: 0.0235 - val_loss: 4.1283 - val_accuracy: 0.0191 - lr: 0.0010\n",
            "Epoch 6/80\n",
            "44/44 [==============================] - 1s 23ms/step - loss: 4.1231 - accuracy: 0.0205 - val_loss: 4.1277 - val_accuracy: 0.0205 - lr: 0.0010\n",
            "Epoch 7/80\n",
            "44/44 [==============================] - 1s 23ms/step - loss: 4.0961 - accuracy: 0.0308 - val_loss: 4.1279 - val_accuracy: 0.0205 - lr: 0.0010\n",
            "Epoch 8/80\n",
            "44/44 [==============================] - 1s 23ms/step - loss: 4.0492 - accuracy: 0.0367 - val_loss: 4.1224 - val_accuracy: 0.0220 - lr: 0.0010\n",
            "Epoch 9/80\n",
            "44/44 [==============================] - 1s 23ms/step - loss: 3.9919 - accuracy: 0.0392 - val_loss: 4.0963 - val_accuracy: 0.0279 - lr: 0.0010\n",
            "Epoch 10/80\n",
            "44/44 [==============================] - 1s 23ms/step - loss: 3.9172 - accuracy: 0.0550 - val_loss: 4.0558 - val_accuracy: 0.0484 - lr: 0.0010\n",
            "Epoch 11/80\n",
            "44/44 [==============================] - 1s 23ms/step - loss: 3.7805 - accuracy: 0.0744 - val_loss: 4.0210 - val_accuracy: 0.0425 - lr: 0.0010\n",
            "Epoch 12/80\n",
            "44/44 [==============================] - 1s 23ms/step - loss: 3.6468 - accuracy: 0.1034 - val_loss: 3.8670 - val_accuracy: 0.1276 - lr: 0.0010\n",
            "Epoch 13/80\n",
            "44/44 [==============================] - 1s 23ms/step - loss: 3.5952 - accuracy: 0.0997 - val_loss: 3.7876 - val_accuracy: 0.1745 - lr: 0.0010\n",
            "Epoch 14/80\n",
            "44/44 [==============================] - 1s 23ms/step - loss: 3.4040 - accuracy: 0.1375 - val_loss: 3.7609 - val_accuracy: 0.1745 - lr: 0.0010\n",
            "Epoch 15/80\n",
            "44/44 [==============================] - 1s 24ms/step - loss: 3.3183 - accuracy: 0.1587 - val_loss: 3.6439 - val_accuracy: 0.1979 - lr: 0.0010\n",
            "Epoch 16/80\n",
            "44/44 [==============================] - 1s 23ms/step - loss: 3.1322 - accuracy: 0.1848 - val_loss: 3.5526 - val_accuracy: 0.2287 - lr: 0.0010\n",
            "Epoch 17/80\n",
            "44/44 [==============================] - 1s 23ms/step - loss: 3.0210 - accuracy: 0.2115 - val_loss: 3.4258 - val_accuracy: 0.2918 - lr: 0.0010\n",
            "Epoch 18/80\n",
            "44/44 [==============================] - 1s 23ms/step - loss: 2.9169 - accuracy: 0.2251 - val_loss: 3.3535 - val_accuracy: 0.3182 - lr: 0.0010\n",
            "Epoch 19/80\n",
            "44/44 [==============================] - 1s 23ms/step - loss: 2.8087 - accuracy: 0.2614 - val_loss: 3.2065 - val_accuracy: 0.3695 - lr: 0.0010\n",
            "Epoch 20/80\n",
            "44/44 [==============================] - 1s 23ms/step - loss: 2.7223 - accuracy: 0.2562 - val_loss: 3.2716 - val_accuracy: 0.3548 - lr: 0.0010\n",
            "Epoch 21/80\n",
            "44/44 [==============================] - 1s 23ms/step - loss: 2.6342 - accuracy: 0.2944 - val_loss: 3.0966 - val_accuracy: 0.4311 - lr: 0.0010\n",
            "Epoch 22/80\n",
            "44/44 [==============================] - 1s 23ms/step - loss: 2.4922 - accuracy: 0.3237 - val_loss: 2.9997 - val_accuracy: 0.4751 - lr: 0.0010\n",
            "Epoch 23/80\n",
            "44/44 [==============================] - 1s 23ms/step - loss: 2.4423 - accuracy: 0.3372 - val_loss: 2.8407 - val_accuracy: 0.4413 - lr: 0.0010\n",
            "Epoch 24/80\n",
            "44/44 [==============================] - 1s 23ms/step - loss: 2.3512 - accuracy: 0.3504 - val_loss: 2.8738 - val_accuracy: 0.4883 - lr: 0.0010\n",
            "Epoch 25/80\n",
            "44/44 [==============================] - 1s 23ms/step - loss: 2.2209 - accuracy: 0.3856 - val_loss: 2.7734 - val_accuracy: 0.5337 - lr: 0.0010\n",
            "Epoch 26/80\n",
            "44/44 [==============================] - 1s 23ms/step - loss: 2.1548 - accuracy: 0.3988 - val_loss: 2.8042 - val_accuracy: 0.5396 - lr: 0.0010\n",
            "Epoch 27/80\n",
            "44/44 [==============================] - 1s 23ms/step - loss: 2.0679 - accuracy: 0.4238 - val_loss: 2.5554 - val_accuracy: 0.5748 - lr: 0.0010\n",
            "Epoch 28/80\n",
            "44/44 [==============================] - 1s 23ms/step - loss: 2.0167 - accuracy: 0.4333 - val_loss: 2.5694 - val_accuracy: 0.5689 - lr: 0.0010\n",
            "Epoch 29/80\n",
            "44/44 [==============================] - 1s 23ms/step - loss: 1.9469 - accuracy: 0.4589 - val_loss: 2.4992 - val_accuracy: 0.6070 - lr: 0.0010\n",
            "Epoch 30/80\n",
            "44/44 [==============================] - 1s 23ms/step - loss: 1.8993 - accuracy: 0.4545 - val_loss: 2.5175 - val_accuracy: 0.6012 - lr: 0.0010\n",
            "Epoch 31/80\n",
            "44/44 [==============================] - 1s 23ms/step - loss: 1.8412 - accuracy: 0.4696 - val_loss: 2.2666 - val_accuracy: 0.6305 - lr: 0.0010\n",
            "Epoch 32/80\n",
            "44/44 [==============================] - 1s 23ms/step - loss: 1.7460 - accuracy: 0.4956 - val_loss: 2.3300 - val_accuracy: 0.6202 - lr: 0.0010\n",
            "Epoch 33/80\n",
            "44/44 [==============================] - 1s 23ms/step - loss: 1.7160 - accuracy: 0.5106 - val_loss: 2.3109 - val_accuracy: 0.6276 - lr: 0.0010\n",
            "Epoch 34/80\n",
            "44/44 [==============================] - 1s 23ms/step - loss: 1.6577 - accuracy: 0.5194 - val_loss: 2.1497 - val_accuracy: 0.6246 - lr: 0.0010\n",
            "Epoch 35/80\n",
            "44/44 [==============================] - 1s 23ms/step - loss: 1.5668 - accuracy: 0.5330 - val_loss: 2.0499 - val_accuracy: 0.6320 - lr: 0.0010\n",
            "Epoch 36/80\n",
            "44/44 [==============================] - 1s 23ms/step - loss: 1.5655 - accuracy: 0.5455 - val_loss: 2.2184 - val_accuracy: 0.5674 - lr: 0.0010\n",
            "Epoch 37/80\n",
            "44/44 [==============================] - 1s 25ms/step - loss: 1.5561 - accuracy: 0.5510 - val_loss: 2.0616 - val_accuracy: 0.6525 - lr: 0.0010\n",
            "Epoch 38/80\n",
            "44/44 [==============================] - 1s 25ms/step - loss: 1.4602 - accuracy: 0.5652 - val_loss: 2.0866 - val_accuracy: 0.6070 - lr: 0.0010\n",
            "Epoch 39/80\n",
            "44/44 [==============================] - 1s 25ms/step - loss: 1.3904 - accuracy: 0.5898 - val_loss: 1.8283 - val_accuracy: 0.6716 - lr: 0.0010\n",
            "Epoch 40/80\n",
            "44/44 [==============================] - 1s 28ms/step - loss: 1.4080 - accuracy: 0.5968 - val_loss: 1.9562 - val_accuracy: 0.7009 - lr: 0.0010\n",
            "Epoch 41/80\n",
            "44/44 [==============================] - 1s 23ms/step - loss: 1.3213 - accuracy: 0.5990 - val_loss: 1.7792 - val_accuracy: 0.6730 - lr: 8.1873e-04\n",
            "Epoch 42/80\n",
            "44/44 [==============================] - 1s 23ms/step - loss: 1.2613 - accuracy: 0.6265 - val_loss: 1.7829 - val_accuracy: 0.7038 - lr: 6.6698e-04\n",
            "Epoch 43/80\n",
            "44/44 [==============================] - 1s 23ms/step - loss: 1.2541 - accuracy: 0.6257 - val_loss: 1.7535 - val_accuracy: 0.7023 - lr: 5.4064e-04\n",
            "Epoch 44/80\n",
            "44/44 [==============================] - 1s 23ms/step - loss: 1.2115 - accuracy: 0.6305 - val_loss: 1.7415 - val_accuracy: 0.6877 - lr: 4.3605e-04\n",
            "Epoch 45/80\n",
            "44/44 [==============================] - 1s 23ms/step - loss: 1.1558 - accuracy: 0.6510 - val_loss: 1.6030 - val_accuracy: 0.7375 - lr: 3.4994e-04\n",
            "Epoch 46/80\n",
            "44/44 [==============================] - 1s 23ms/step - loss: 1.1305 - accuracy: 0.6562 - val_loss: 1.6121 - val_accuracy: 0.7053 - lr: 2.7943e-04\n",
            "Epoch 47/80\n",
            "44/44 [==============================] - 1s 23ms/step - loss: 1.1034 - accuracy: 0.6576 - val_loss: 1.5846 - val_accuracy: 0.7126 - lr: 2.2202e-04\n",
            "Epoch 48/80\n",
            "44/44 [==============================] - 1s 23ms/step - loss: 1.1362 - accuracy: 0.6529 - val_loss: 1.5938 - val_accuracy: 0.7199 - lr: 1.7552e-04\n",
            "Epoch 49/80\n",
            "44/44 [==============================] - 1s 23ms/step - loss: 1.1121 - accuracy: 0.6741 - val_loss: 1.5905 - val_accuracy: 0.7214 - lr: 1.3807e-04\n",
            "Epoch 50/80\n",
            "44/44 [==============================] - 1s 23ms/step - loss: 1.0788 - accuracy: 0.6763 - val_loss: 1.5629 - val_accuracy: 0.7199 - lr: 1.0807e-04\n",
            "Epoch 51/80\n",
            "44/44 [==============================] - 1s 23ms/step - loss: 1.0615 - accuracy: 0.6606 - val_loss: 1.5569 - val_accuracy: 0.7243 - lr: 8.4163e-05\n",
            "Epoch 52/80\n",
            "44/44 [==============================] - 1s 23ms/step - loss: 1.0779 - accuracy: 0.6763 - val_loss: 1.5647 - val_accuracy: 0.7185 - lr: 6.5219e-05\n",
            "Epoch 53/80\n",
            "44/44 [==============================] - 1s 24ms/step - loss: 1.0280 - accuracy: 0.6891 - val_loss: 1.5488 - val_accuracy: 0.7273 - lr: 5.0287e-05\n",
            "Epoch 54/80\n",
            "44/44 [==============================] - 1s 24ms/step - loss: 1.0461 - accuracy: 0.6822 - val_loss: 1.5285 - val_accuracy: 0.7331 - lr: 3.8581e-05\n",
            "Epoch 55/80\n",
            "44/44 [==============================] - 1s 23ms/step - loss: 1.0341 - accuracy: 0.6818 - val_loss: 1.5256 - val_accuracy: 0.7243 - lr: 2.9452e-05\n",
            "Epoch 56/80\n",
            "44/44 [==============================] - 1s 23ms/step - loss: 1.0350 - accuracy: 0.6763 - val_loss: 1.5103 - val_accuracy: 0.7317 - lr: 2.2371e-05\n",
            "Epoch 57/80\n",
            "44/44 [==============================] - 1s 23ms/step - loss: 1.0769 - accuracy: 0.6683 - val_loss: 1.5193 - val_accuracy: 0.7273 - lr: 1.6907e-05\n",
            "Epoch 58/80\n",
            "44/44 [==============================] - 1s 23ms/step - loss: 1.0392 - accuracy: 0.6837 - val_loss: 1.5096 - val_accuracy: 0.7302 - lr: 1.2715e-05\n",
            "Epoch 59/80\n",
            "44/44 [==============================] - 1s 23ms/step - loss: 1.0644 - accuracy: 0.6716 - val_loss: 1.5129 - val_accuracy: 0.7317 - lr: 9.5139e-06\n",
            "Epoch 60/80\n",
            "44/44 [==============================] - 1s 23ms/step - loss: 1.0205 - accuracy: 0.6895 - val_loss: 1.5099 - val_accuracy: 0.7317 - lr: 7.0834e-06\n",
            "Epoch 61/80\n",
            "44/44 [==============================] - 1s 23ms/step - loss: 1.0374 - accuracy: 0.6822 - val_loss: 1.5086 - val_accuracy: 0.7317 - lr: 5.2475e-06\n",
            "Epoch 62/80\n",
            "44/44 [==============================] - 1s 24ms/step - loss: 1.0295 - accuracy: 0.6807 - val_loss: 1.5112 - val_accuracy: 0.7317 - lr: 3.8681e-06\n",
            "Epoch 63/80\n",
            "44/44 [==============================] - 1s 23ms/step - loss: 1.0404 - accuracy: 0.6888 - val_loss: 1.5104 - val_accuracy: 0.7317 - lr: 2.8370e-06\n",
            "Epoch 64/80\n",
            "44/44 [==============================] - 1s 23ms/step - loss: 1.0459 - accuracy: 0.6778 - val_loss: 1.5107 - val_accuracy: 0.7317 - lr: 2.0704e-06\n",
            "Epoch 65/80\n",
            "44/44 [==============================] - 1s 23ms/step - loss: 1.0092 - accuracy: 0.6924 - val_loss: 1.5099 - val_accuracy: 0.7317 - lr: 1.5034e-06\n",
            "Epoch 66/80\n",
            "44/44 [==============================] - 1s 23ms/step - loss: 1.0240 - accuracy: 0.6968 - val_loss: 1.5097 - val_accuracy: 0.7317 - lr: 1.0863e-06\n",
            "Epoch 67/80\n",
            "44/44 [==============================] - 1s 23ms/step - loss: 1.0724 - accuracy: 0.6771 - val_loss: 1.5101 - val_accuracy: 0.7317 - lr: 7.8095e-07\n",
            "Epoch 68/80\n",
            "44/44 [==============================] - 1s 23ms/step - loss: 1.0478 - accuracy: 0.6778 - val_loss: 1.5102 - val_accuracy: 0.7302 - lr: 5.5864e-07\n",
            "Epoch 69/80\n",
            "44/44 [==============================] - 1s 23ms/step - loss: 0.9994 - accuracy: 0.6943 - val_loss: 1.5105 - val_accuracy: 0.7302 - lr: 3.9763e-07\n",
            "Epoch 70/80\n",
            "44/44 [==============================] - 1s 23ms/step - loss: 1.0209 - accuracy: 0.6848 - val_loss: 1.5107 - val_accuracy: 0.7302 - lr: 2.8161e-07\n",
            "Epoch 71/80\n",
            "43/44 [============================>.] - ETA: 0s - loss: 0.9881 - accuracy: 0.6962Restoring model weights from the end of the best epoch: 61.\n",
            "44/44 [==============================] - 1s 23ms/step - loss: 0.9914 - accuracy: 0.6965 - val_loss: 1.5105 - val_accuracy: 0.7302 - lr: 1.9844e-07\n",
            "Epoch 71: early stopping\n"
          ]
        }
      ]
    },
    {
      "cell_type": "code",
      "source": [
        "plot_graphs(logs[MODEL_NAME])\n",
        "\n",
        "plt.plot(logs[MODEL_NAME].history['lr'])\n",
        "plt.xlabel(\"Epochs\")\n",
        "plt.ylabel('learning rate')\n",
        "plt.show()"
      ],
      "metadata": {
        "colab": {
          "base_uri": "https://localhost:8080/",
          "height": 804
        },
        "id": "js358EIYpR9n",
        "outputId": "2e509c6f-a94e-47de-f4e9-f4f19c203a64"
      },
      "execution_count": 220,
      "outputs": [
        {
          "output_type": "display_data",
          "data": {
            "text/plain": [
              "<Figure size 576x288 with 1 Axes>"
            ],
            "image/png": "[encoded data removed]"
          },
          "metadata": {
            "needs_background": "light"
          }
        },
        {
          "output_type": "display_data",
          "data": {
            "text/plain": [
              "<Figure size 576x288 with 1 Axes>"
            ],
            "image/png": "[encoded data removed]"
          },
          "metadata": {
            "needs_background": "light"
          }
        },
        {
          "output_type": "display_data",
          "data": {
            "text/plain": [
              "<Figure size 432x288 with 1 Axes>"
            ],
            "image/png": "[encoded data removed]"
          },
          "metadata": {
            "needs_background": "light"
          }
        }
      ]
    },
    {
      "cell_type": "code",
      "source": [
        "model5.save(\"model.h5\")"
      ],
      "metadata": {
        "id": "683Run-2MglU"
      },
      "execution_count": null,
      "outputs": []
    },
    {
      "cell_type": "markdown",
      "source": [
        "Plot wrong predictions"
      ],
      "metadata": {
        "id": "n4qPFg_cP76k"
      }
    },
    {
      "cell_type": "code",
      "source": [
        "predictions = model5.predict(val_ds)\n",
        "i=0\n",
        "for image, label in val_ds:\n",
        "  if np.argmax(predictions[i]) != label[i]:\n",
        "    title=int_to_label[np.argmax(predictions[i])] + \" instead of \" + int_to_label[label.numpy()[i]]\n",
        "    plot_char(image[i], title)\n",
        "  i+=1\n"
      ],
      "metadata": {
        "id": "ezks7_MWQtui",
        "outputId": "31b7d9a8-0676-4507-9e5f-0f54329f6eb8",
        "colab": {
          "base_uri": "https://localhost:8080/",
          "height": 1000
        }
      },
      "execution_count": null,
      "outputs": [
        {
          "output_type": "stream",
          "name": "stdout",
          "text": [
            "11/11 [==============================] - 0s 7ms/step\n"
          ]
        },
        {
          "output_type": "display_data",
          "data": {
            "text/plain": [
              "<Figure size 144x144 with 1 Axes>"
            ],
            "image/png": "[encoded data removed]"
          },
          "metadata": {
            "needs_background": "light"
          }
        },
        {
          "output_type": "display_data",
          "data": {
            "text/plain": [
              "<Figure size 144x144 with 1 Axes>"
            ],
            "image/png": "[encoded data removed]"
          },
          "metadata": {
            "needs_background": "light"
          }
        },
        {
          "output_type": "display_data",
          "data": {
            "text/plain": [
              "<Figure size 144x144 with 1 Axes>"
            ],
            "image/png": "[encoded data removed]"
          },
          "metadata": {
            "needs_background": "light"
          }
        },
        {
          "output_type": "display_data",
          "data": {
            "text/plain": [
              "<Figure size 144x144 with 1 Axes>"
            ],
            "image/png": "[encoded data removed]"
          },
          "metadata": {
            "needs_background": "light"
          }
        },
        {
          "output_type": "display_data",
          "data": {
            "text/plain": [
              "<Figure size 144x144 with 1 Axes>"
            ],
            "image/png": "[encoded data removed]"
          },
          "metadata": {
            "needs_background": "light"
          }
        },
        {
          "output_type": "display_data",
          "data": {
            "text/plain": [
              "<Figure size 144x144 with 1 Axes>"
            ],
            "image/png": "[encoded data removed]"
          },
          "metadata": {
            "needs_background": "light"
          }
        },
        {
          "output_type": "display_data",
          "data": {
            "text/plain": [
              "<Figure size 144x144 with 1 Axes>"
            ],
            "image/png": "[encoded data removed]"
          },
          "metadata": {
            "needs_background": "light"
          }
        },
        {
          "output_type": "display_data",
          "data": {
            "text/plain": [
              "<Figure size 144x144 with 1 Axes>"
            ],
            "image/png": "[encoded data removed]"
          },
          "metadata": {
            "needs_background": "light"
          }
        },
        {
          "output_type": "display_data",
          "data": {
            "text/plain": [
              "<Figure size 144x144 with 1 Axes>"
            ],
            "image/png": "[encoded data removed]"
          },
          "metadata": {
            "needs_background": "light"
          }
        },
        {
          "output_type": "display_data",
          "data": {
            "text/plain": [
              "<Figure size 144x144 with 1 Axes>"
            ],
            "image/png": "[encoded data removed]"
          },
          "metadata": {
            "needs_background": "light"
          }
        }
      ]
    }
  ]
}