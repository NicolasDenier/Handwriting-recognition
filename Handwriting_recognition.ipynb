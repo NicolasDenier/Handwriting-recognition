{
  "nbformat": 4,
  "nbformat_minor": 0,
  "metadata": {
    "colab": {
      "provenance": [],
      "mount_file_id": "1Kmgj07TyXDA_cVKAtSthHtPNC2aW8wzu",
      "authorship_tag": "ABX9TyPr9zga5yQIEOnfeU6G9CAj",
      "include_colab_link": true
    },
    "kernelspec": {
      "name": "python3",
      "display_name": "Python 3"
    },
    "language_info": {
      "name": "python"
    },
    "accelerator": "GPU",
    "gpuClass": "standard"
  },
  "cells": [
    {
      "cell_type": "markdown",
      "metadata": {
        "id": "view-in-github",
        "colab_type": "text"
      },
      "source": [
        "<a href=\"https://colab.research.google.com/github/NicolasDenier/Handwriting-recognition/blob/main/Handwriting_recognition.ipynb\" target=\"_parent\"><img src=\"https://colab.research.google.com/assets/colab-badge.svg\" alt=\"Open In Colab\"/></a>"
      ]
    },
    {
      "cell_type": "code",
      "source": [
        "!pip install keras_cv"
      ],
      "metadata": {
        "colab": {
          "base_uri": "https://localhost:8080/"
        },
        "id": "qgg_jLrcbh_W",
        "outputId": "e7f4b371-cfad-45ba-bf01-5d92a76d91b5"
      },
      "execution_count": 2,
      "outputs": [
        {
          "output_type": "stream",
          "name": "stdout",
          "text": [
            "Looking in indexes: https://pypi.org/simple, https://us-python.pkg.dev/colab-wheels/public/simple/\n",
            "Collecting keras_cv\n",
            "  Downloading keras_cv-0.3.4-py3-none-any.whl (394 kB)\n",
            "\u001b[K     |████████████████████████████████| 394 kB 36.3 MB/s \n",
            "\u001b[?25hRequirement already satisfied: regex in /usr/local/lib/python3.8/dist-packages (from keras_cv) (2022.6.2)\n",
            "Requirement already satisfied: packaging in /usr/local/lib/python3.8/dist-packages (from keras_cv) (21.3)\n",
            "Requirement already satisfied: absl-py in /usr/local/lib/python3.8/dist-packages (from keras_cv) (1.3.0)\n",
            "Requirement already satisfied: pyparsing!=3.0.5,>=2.0.2 in /usr/local/lib/python3.8/dist-packages (from packaging->keras_cv) (3.0.9)\n",
            "Installing collected packages: keras-cv\n",
            "Successfully installed keras-cv-0.3.4\n"
          ]
        }
      ]
    },
    {
      "cell_type": "code",
      "source": [
        "import matplotlib.pyplot as plt\n",
        "from matplotlib import image\n",
        "import numpy as np\n",
        "import pandas as pd \n",
        "import os\n",
        "import tensorflow as tf\n",
        "from tensorflow import keras\n",
        "from tensorflow.keras.models import Sequential\n",
        "from tensorflow.keras.layers import Dense, Conv2D, MaxPooling2D, Flatten, Rescaling, Reshape, Dropout, RandomRotation, RandomZoom, GaussianNoise"
      ],
      "metadata": {
        "id": "2Esp-XyFlcva"
      },
      "execution_count": 85,
      "outputs": []
    },
    {
      "cell_type": "code",
      "source": [
        "from google.colab import drive\n",
        "drive.mount('/content/drive')"
      ],
      "metadata": {
        "id": "eiHuBwrOrMIr",
        "colab": {
          "base_uri": "https://localhost:8080/"
        },
        "outputId": "1aa22455-0433-44a3-e0ee-11aa8da9e385"
      },
      "execution_count": 4,
      "outputs": [
        {
          "output_type": "stream",
          "name": "stdout",
          "text": [
            "Drive already mounted at /content/drive; to attempt to forcibly remount, call drive.mount(\"/content/drive\", force_remount=True).\n"
          ]
        }
      ]
    },
    {
      "cell_type": "code",
      "source": [
        "# Metadata: label and path of each image\n",
        "characters_data_url = \"drive/My Drive/Colab Notebooks/OCR-data/characters/\"\n",
        "characters = pd.read_csv(characters_data_url + \"english.csv\")\n",
        "characters.head()"
      ],
      "metadata": {
        "colab": {
          "base_uri": "https://localhost:8080/",
          "height": 206
        },
        "id": "1PJ5FlHDmLvi",
        "outputId": "e2f7c4ce-8003-4592-e06a-ed59ac3a9784"
      },
      "execution_count": 5,
      "outputs": [
        {
          "output_type": "execute_result",
          "data": {
            "text/plain": [
              "                image label\n",
              "0  Img/img001-001.png     0\n",
              "1  Img/img001-002.png     0\n",
              "2  Img/img001-003.png     0\n",
              "3  Img/img001-004.png     0\n",
              "4  Img/img001-005.png     0"
            ],
            "text/html": [
              "\n",
              "  <div id=\"df-92012457-e247-4caa-af3d-af6f7159beac\">\n",
              "    <div class=\"colab-df-container\">\n",
              "      <div>\n",
              "<style scoped>\n",
              "    .dataframe tbody tr th:only-of-type {\n",
              "        vertical-align: middle;\n",
              "    }\n",
              "\n",
              "    .dataframe tbody tr th {\n",
              "        vertical-align: top;\n",
              "    }\n",
              "\n",
              "    .dataframe thead th {\n",
              "        text-align: right;\n",
              "    }\n",
              "</style>\n",
              "<table border=\"1\" class=\"dataframe\">\n",
              "  <thead>\n",
              "    <tr style=\"text-align: right;\">\n",
              "      <th></th>\n",
              "      <th>image</th>\n",
              "      <th>label</th>\n",
              "    </tr>\n",
              "  </thead>\n",
              "  <tbody>\n",
              "    <tr>\n",
              "      <th>0</th>\n",
              "      <td>Img/img001-001.png</td>\n",
              "      <td>0</td>\n",
              "    </tr>\n",
              "    <tr>\n",
              "      <th>1</th>\n",
              "      <td>Img/img001-002.png</td>\n",
              "      <td>0</td>\n",
              "    </tr>\n",
              "    <tr>\n",
              "      <th>2</th>\n",
              "      <td>Img/img001-003.png</td>\n",
              "      <td>0</td>\n",
              "    </tr>\n",
              "    <tr>\n",
              "      <th>3</th>\n",
              "      <td>Img/img001-004.png</td>\n",
              "      <td>0</td>\n",
              "    </tr>\n",
              "    <tr>\n",
              "      <th>4</th>\n",
              "      <td>Img/img001-005.png</td>\n",
              "      <td>0</td>\n",
              "    </tr>\n",
              "  </tbody>\n",
              "</table>\n",
              "</div>\n",
              "      <button class=\"colab-df-convert\" onclick=\"convertToInteractive('df-92012457-e247-4caa-af3d-af6f7159beac')\"\n",
              "              title=\"Convert this dataframe to an interactive table.\"\n",
              "              style=\"display:none;\">\n",
              "        \n",
              "  <svg xmlns=\"http://www.w3.org/2000/svg\" height=\"24px\"viewBox=\"0 0 24 24\"\n",
              "       width=\"24px\">\n",
              "    <path d=\"M0 0h24v24H0V0z\" fill=\"none\"/>\n",
              "    <path d=\"M18.56 5.44l.94 2.06.94-2.06 2.06-.94-2.06-.94-.94-2.06-.94 2.06-2.06.94zm-11 1L8.5 8.5l.94-2.06 2.06-.94-2.06-.94L8.5 2.5l-.94 2.06-2.06.94zm10 10l.94 2.06.94-2.06 2.06-.94-2.06-.94-.94-2.06-.94 2.06-2.06.94z\"/><path d=\"M17.41 7.96l-1.37-1.37c-.4-.4-.92-.59-1.43-.59-.52 0-1.04.2-1.43.59L10.3 9.45l-7.72 7.72c-.78.78-.78 2.05 0 2.83L4 21.41c.39.39.9.59 1.41.59.51 0 1.02-.2 1.41-.59l7.78-7.78 2.81-2.81c.8-.78.8-2.07 0-2.86zM5.41 20L4 18.59l7.72-7.72 1.47 1.35L5.41 20z\"/>\n",
              "  </svg>\n",
              "      </button>\n",
              "      \n",
              "  <style>\n",
              "    .colab-df-container {\n",
              "      display:flex;\n",
              "      flex-wrap:wrap;\n",
              "      gap: 12px;\n",
              "    }\n",
              "\n",
              "    .colab-df-convert {\n",
              "      background-color: #E8F0FE;\n",
              "      border: none;\n",
              "      border-radius: 50%;\n",
              "      cursor: pointer;\n",
              "      display: none;\n",
              "      fill: #1967D2;\n",
              "      height: 32px;\n",
              "      padding: 0 0 0 0;\n",
              "      width: 32px;\n",
              "    }\n",
              "\n",
              "    .colab-df-convert:hover {\n",
              "      background-color: #E2EBFA;\n",
              "      box-shadow: 0px 1px 2px rgba(60, 64, 67, 0.3), 0px 1px 3px 1px rgba(60, 64, 67, 0.15);\n",
              "      fill: #174EA6;\n",
              "    }\n",
              "\n",
              "    [theme=dark] .colab-df-convert {\n",
              "      background-color: #3B4455;\n",
              "      fill: #D2E3FC;\n",
              "    }\n",
              "\n",
              "    [theme=dark] .colab-df-convert:hover {\n",
              "      background-color: #434B5C;\n",
              "      box-shadow: 0px 1px 3px 1px rgba(0, 0, 0, 0.15);\n",
              "      filter: drop-shadow(0px 1px 2px rgba(0, 0, 0, 0.3));\n",
              "      fill: #FFFFFF;\n",
              "    }\n",
              "  </style>\n",
              "\n",
              "      <script>\n",
              "        const buttonEl =\n",
              "          document.querySelector('#df-92012457-e247-4caa-af3d-af6f7159beac button.colab-df-convert');\n",
              "        buttonEl.style.display =\n",
              "          google.colab.kernel.accessAllowed ? 'block' : 'none';\n",
              "\n",
              "        async function convertToInteractive(key) {\n",
              "          const element = document.querySelector('#df-92012457-e247-4caa-af3d-af6f7159beac');\n",
              "          const dataTable =\n",
              "            await google.colab.kernel.invokeFunction('convertToInteractive',\n",
              "                                                     [key], {});\n",
              "          if (!dataTable) return;\n",
              "\n",
              "          const docLinkHtml = 'Like what you see? Visit the ' +\n",
              "            '<a target=\"_blank\" href=https://colab.research.google.com/notebooks/data_table.ipynb>data table notebook</a>'\n",
              "            + ' to learn more about interactive tables.';\n",
              "          element.innerHTML = '';\n",
              "          dataTable['output_type'] = 'display_data';\n",
              "          await google.colab.output.renderOutput(dataTable, element);\n",
              "          const docLink = document.createElement('div');\n",
              "          docLink.innerHTML = docLinkHtml;\n",
              "          element.appendChild(docLink);\n",
              "        }\n",
              "      </script>\n",
              "    </div>\n",
              "  </div>\n",
              "  "
            ]
          },
          "metadata": {},
          "execution_count": 5
        }
      ]
    },
    {
      "cell_type": "code",
      "source": [
        "# Show a single image to have an idea of the data\n",
        "img = image.imread(characters_data_url+characters['image'][1234])\n",
        "print(img.shape)\n",
        "plt.imshow(img)\n",
        "plt.show()"
      ],
      "metadata": {
        "colab": {
          "base_uri": "https://localhost:8080/",
          "height": 287
        },
        "id": "KpCxwle3o1aT",
        "outputId": "9cd54055-a560-49be-b741-a909eb4571bd"
      },
      "execution_count": 6,
      "outputs": [
        {
          "output_type": "stream",
          "name": "stdout",
          "text": [
            "(900, 1200, 3)\n"
          ]
        },
        {
          "output_type": "display_data",
          "data": {
            "text/plain": [
              "<Figure size 432x288 with 1 Axes>"
            ],
            "image/png": "[encoded data removed]"
          },
          "metadata": {
            "needs_background": "light"
          }
        }
      ]
    },
    {
      "cell_type": "code",
      "source": [
        "# Number of images in a batch\n",
        "batch_size = 32\n",
        "# The desired image size\n",
        "img_height = 180\n",
        "img_width = 240"
      ],
      "metadata": {
        "id": "J4lBptM52GHi"
      },
      "execution_count": 7,
      "outputs": []
    },
    {
      "cell_type": "code",
      "source": [
        "classes = characters['label'].unique() # list of classes\n",
        "num_classes=len(characters['label'].unique()) # number of classes (10 diits + 26 lowercase + 26 uppercase = 62)\n",
        "label_to_int = {classes[i]:i for i in range(num_classes)} # dict to get an unique id as int for each class\n",
        "int_to_label = {value:key for key, value in label_to_int.items()} # dict to get back a string label from an int\n",
        "labels = [label_to_int[l] for l in characters['label']] # list of labels as int"
      ],
      "metadata": {
        "id": "-IY2KtnowRdx"
      },
      "execution_count": 8,
      "outputs": []
    },
    {
      "cell_type": "code",
      "source": [
        "# Prepare the data stream batches (it avoids to overload the RAM)\n",
        "train_ds = tf.keras.utils.image_dataset_from_directory(\n",
        "    characters_data_url,\n",
        "    labels = labels,\n",
        "    batch_size = batch_size,\n",
        "    image_size = (img_height, img_width),\n",
        "    color_mode = 'grayscale',\n",
        "    seed=10,\n",
        "    validation_split = 0.2,\n",
        "    shuffle=True,\n",
        "    subset = \"training\"\n",
        "    )\n",
        "\n",
        "# For some reason the labels are definitely shuffled and need to be redefined\n",
        "labels = [label_to_int[l] for l in characters['label']]\n",
        "\n",
        "val_ds = tf.keras.utils.image_dataset_from_directory(\n",
        "    characters_data_url,\n",
        "    labels = labels,\n",
        "    batch_size = batch_size,\n",
        "    image_size = (img_height, img_width),\n",
        "    color_mode = 'grayscale',\n",
        "    seed=10,\n",
        "    validation_split = 0.2,\n",
        "    shuffle=True,\n",
        "    subset = \"validation\"\n",
        "    )"
      ],
      "metadata": {
        "colab": {
          "base_uri": "https://localhost:8080/"
        },
        "id": "M5cbn1qg5lwx",
        "outputId": "57eb7afe-0d48-4380-b879-45ab1e666c7d"
      },
      "execution_count": 9,
      "outputs": [
        {
          "output_type": "stream",
          "name": "stdout",
          "text": [
            "Found 3410 files belonging to 1 classes.\n",
            "Using 2728 files for training.\n",
            "Found 3410 files belonging to 1 classes.\n",
            "Using 682 files for validation.\n"
          ]
        }
      ]
    },
    {
      "cell_type": "code",
      "source": [
        "# Check that the labels are correct\n",
        "for image, label in val_ds:\n",
        "    print(image.shape)\n",
        "    print(label.shape)\n",
        "    for i in range(3):\n",
        "      plt.imshow(np.reshape(image[i],(img_height, img_width)), cmap=\"gray\")\n",
        "      plt.show()\n",
        "      print(int_to_label[label.numpy()[i]])\n",
        "    break"
      ],
      "metadata": {
        "colab": {
          "base_uri": "https://localhost:8080/",
          "height": 864
        },
        "id": "9xgftWwY5F0I",
        "outputId": "0e4b2e56-0dfa-4b26-84f3-a07d69b2ed58"
      },
      "execution_count": 10,
      "outputs": [
        {
          "output_type": "stream",
          "name": "stdout",
          "text": [
            "(32, 180, 240, 1)\n",
            "(32,)\n"
          ]
        },
        {
          "output_type": "display_data",
          "data": {
            "text/plain": [
              "<Figure size 432x288 with 1 Axes>"
            ],
            "image/png": "[encoded data removed]"
          },
          "metadata": {
            "needs_background": "light"
          }
        },
        {
          "output_type": "stream",
          "name": "stdout",
          "text": [
            "O\n"
          ]
        },
        {
          "output_type": "display_data",
          "data": {
            "text/plain": [
              "<Figure size 432x288 with 1 Axes>"
            ],
            "image/png": "[encoded data removed]"
          },
          "metadata": {
            "needs_background": "light"
          }
        },
        {
          "output_type": "stream",
          "name": "stdout",
          "text": [
            "U\n"
          ]
        },
        {
          "output_type": "display_data",
          "data": {
            "text/plain": [
              "<Figure size 432x288 with 1 Axes>"
            ],
            "image/png": "[encoded data removed]"
          },
          "metadata": {
            "needs_background": "light"
          }
        },
        {
          "output_type": "stream",
          "name": "stdout",
          "text": [
            "a\n"
          ]
        }
      ]
    },
    {
      "cell_type": "code",
      "source": [
        "# Better memory performances\n",
        "AUTOTUNE = tf.data.AUTOTUNE\n",
        "\n",
        "train_ds = train_ds.cache().shuffle(1000).prefetch(buffer_size=AUTOTUNE)\n",
        "val_ds = val_ds.cache().prefetch(buffer_size=AUTOTUNE)"
      ],
      "metadata": {
        "id": "HI6Y0y2uVa-G"
      },
      "execution_count": 11,
      "outputs": []
    },
    {
      "cell_type": "markdown",
      "source": [
        "## First model"
      ],
      "metadata": {
        "id": "F4lFD5K0j_Bd"
      }
    },
    {
      "cell_type": "code",
      "source": [
        "img_shape = (img_height, img_width, 1)\n",
        "\n",
        "# define model\n",
        "model1 = Sequential([\n",
        "    Rescaling(1./255, input_shape=img_shape),\n",
        "    Conv2D(16, padding='same', kernel_size=(3,3), activation='relu'),\n",
        "    MaxPooling2D(padding='same'),\n",
        "    Conv2D(32, kernel_size=(3,3), activation='relu'),\n",
        "    MaxPooling2D(),\n",
        "    Conv2D(64, kernel_size=(3,3), activation='relu'),\n",
        "    MaxPooling2D(),\n",
        "    Flatten(),\n",
        "    Dense(128, activation='relu'),\n",
        "    Dense(num_classes, activation='softmax')\n",
        "])"
      ],
      "metadata": {
        "id": "qPrC7rHfj-E6"
      },
      "execution_count": 52,
      "outputs": []
    },
    {
      "cell_type": "code",
      "source": [
        "# compile\n",
        "learning_rate = 1e-3\n",
        "model1.compile(\n",
        "    optimizer=tf.keras.optimizers.Adam(learning_rate=learning_rate),\n",
        "    loss='sparse_categorical_crossentropy',\n",
        "    metrics=['accuracy']\n",
        "  )"
      ],
      "metadata": {
        "id": "LbZ-ptdbk5dy"
      },
      "execution_count": 53,
      "outputs": []
    },
    {
      "cell_type": "code",
      "source": [
        "# fit\n",
        "MODEL_NAME = 'base_model'\n",
        "logs = {}\n",
        "EPOCHS = 10\n",
        "logs[MODEL_NAME] = model1.fit(\n",
        "    train_ds,\n",
        "    validation_data = val_ds,\n",
        "    epochs = EPOCHS,\n",
        ")"
      ],
      "metadata": {
        "colab": {
          "base_uri": "https://localhost:8080/"
        },
        "id": "nfImaMK_WDJp",
        "outputId": "1f1daf84-275b-4a31-e258-babab35cf5f9"
      },
      "execution_count": 54,
      "outputs": [
        {
          "output_type": "stream",
          "name": "stdout",
          "text": [
            "Epoch 1/10\n",
            "86/86 [==============================] - 3s 29ms/step - loss: 3.9311 - accuracy: 0.0766 - val_loss: 3.2443 - val_accuracy: 0.2038\n",
            "Epoch 2/10\n",
            "86/86 [==============================] - 2s 27ms/step - loss: 2.2662 - accuracy: 0.4197 - val_loss: 2.2817 - val_accuracy: 0.4340\n",
            "Epoch 3/10\n",
            "86/86 [==============================] - 2s 28ms/step - loss: 1.0571 - accuracy: 0.7133 - val_loss: 2.1024 - val_accuracy: 0.5044\n",
            "Epoch 4/10\n",
            "86/86 [==============================] - 2s 27ms/step - loss: 0.4274 - accuracy: 0.8743 - val_loss: 2.4971 - val_accuracy: 0.5103\n",
            "Epoch 5/10\n",
            "86/86 [==============================] - 2s 27ms/step - loss: 0.1675 - accuracy: 0.9490 - val_loss: 3.0047 - val_accuracy: 0.4883\n",
            "Epoch 6/10\n",
            "86/86 [==============================] - 2s 27ms/step - loss: 0.1166 - accuracy: 0.9674 - val_loss: 3.1165 - val_accuracy: 0.5015\n",
            "Epoch 7/10\n",
            "86/86 [==============================] - 2s 27ms/step - loss: 0.0944 - accuracy: 0.9817 - val_loss: 3.0093 - val_accuracy: 0.5191\n",
            "Epoch 8/10\n",
            "86/86 [==============================] - 2s 27ms/step - loss: 0.0237 - accuracy: 0.9938 - val_loss: 3.4584 - val_accuracy: 0.5235\n",
            "Epoch 9/10\n",
            "86/86 [==============================] - 2s 27ms/step - loss: 0.0181 - accuracy: 0.9952 - val_loss: 3.5440 - val_accuracy: 0.5205\n",
            "Epoch 10/10\n",
            "86/86 [==============================] - 2s 27ms/step - loss: 0.0032 - accuracy: 1.0000 - val_loss: 3.7806 - val_accuracy: 0.5220\n"
          ]
        }
      ]
    },
    {
      "cell_type": "code",
      "source": [
        "def plot_graphs(history, string):\n",
        "  plt.plot(history.history[string])\n",
        "  plt.plot(history.history['val_'+string])\n",
        "  plt.xlabel(\"Epochs\")\n",
        "  plt.ylabel(string)\n",
        "  plt.legend([string, 'val_'+string])\n",
        "  plt.show()"
      ],
      "metadata": {
        "id": "V2_HsdUv744Q"
      },
      "execution_count": 15,
      "outputs": []
    },
    {
      "cell_type": "code",
      "source": [
        "plot_graphs(logs[MODEL_NAME], 'accuracy')"
      ],
      "metadata": {
        "colab": {
          "base_uri": "https://localhost:8080/",
          "height": 279
        },
        "id": "-CTH9bO178Ca",
        "outputId": "7a1351d4-df19-45e2-978a-4a186f9d62c5"
      },
      "execution_count": 55,
      "outputs": [
        {
          "output_type": "display_data",
          "data": {
            "text/plain": [
              "<Figure size 432x288 with 1 Axes>"
            ],
            "image/png": "[encoded data removed]"
          },
          "metadata": {
            "needs_background": "light"
          }
        }
      ]
    },
    {
      "cell_type": "markdown",
      "source": [
        "## More complex model\n",
        "Addding 2 layers with more nodes, changing kernel size"
      ],
      "metadata": {
        "id": "B7nQemvjkF12"
      }
    },
    {
      "cell_type": "code",
      "source": [
        "model2 = Sequential([\n",
        "    Rescaling(1./255, input_shape=img_shape),\n",
        "    Conv2D(16, padding='same', kernel_size=(7,7), activation='relu'),\n",
        "    MaxPooling2D(padding='same'),\n",
        "    Conv2D(32, kernel_size=(5,5), activation='relu'),\n",
        "    MaxPooling2D(),\n",
        "    Conv2D(64, kernel_size=(5,5), activation='relu'),\n",
        "    MaxPooling2D(),\n",
        "    Conv2D(128, kernel_size=(3,3), activation='relu'),\n",
        "    MaxPooling2D(),\n",
        "    Conv2D(256, kernel_size=(3,3), activation='relu'),\n",
        "    MaxPooling2D(),\n",
        "    Flatten(),\n",
        "    Dense(256, activation='relu'),\n",
        "    Dense(num_classes, activation='softmax')\n",
        "])\n",
        "\n",
        "model2.compile(\n",
        "    optimizer=tf.keras.optimizers.Adam(learning_rate=learning_rate),\n",
        "    loss='sparse_categorical_crossentropy',\n",
        "    metrics=['accuracy']\n",
        "  )"
      ],
      "metadata": {
        "id": "wJlZFUMRhL4B"
      },
      "execution_count": 58,
      "outputs": []
    },
    {
      "cell_type": "code",
      "source": [
        "# fit\n",
        "MODEL_NAME = 'more_complex'\n",
        "\n",
        "logs[MODEL_NAME] = model2.fit(\n",
        "    train_ds,\n",
        "    validation_data = val_ds,\n",
        "    epochs = EPOCHS,\n",
        ")"
      ],
      "metadata": {
        "colab": {
          "base_uri": "https://localhost:8080/"
        },
        "id": "gASu-f49hstT",
        "outputId": "3e761f85-84dc-4500-e8b1-5494301838ca"
      },
      "execution_count": 59,
      "outputs": [
        {
          "output_type": "stream",
          "name": "stdout",
          "text": [
            "Epoch 1/10\n",
            "86/86 [==============================] - 4s 35ms/step - loss: 4.0426 - accuracy: 0.0330 - val_loss: 3.5626 - val_accuracy: 0.1188\n",
            "Epoch 2/10\n",
            "86/86 [==============================] - 3s 33ms/step - loss: 2.6695 - accuracy: 0.3215 - val_loss: 2.0461 - val_accuracy: 0.4736\n",
            "Epoch 3/10\n",
            "86/86 [==============================] - 3s 33ms/step - loss: 1.3485 - accuracy: 0.6250 - val_loss: 1.4721 - val_accuracy: 0.6158\n",
            "Epoch 4/10\n",
            "86/86 [==============================] - 3s 33ms/step - loss: 0.7653 - accuracy: 0.7581 - val_loss: 1.2738 - val_accuracy: 0.6598\n",
            "Epoch 5/10\n",
            "86/86 [==============================] - 3s 34ms/step - loss: 0.4765 - accuracy: 0.8530 - val_loss: 1.2197 - val_accuracy: 0.6833\n",
            "Epoch 6/10\n",
            "86/86 [==============================] - 3s 34ms/step - loss: 0.3107 - accuracy: 0.8992 - val_loss: 1.5277 - val_accuracy: 0.6994\n",
            "Epoch 7/10\n",
            "86/86 [==============================] - 3s 34ms/step - loss: 0.1946 - accuracy: 0.9421 - val_loss: 1.4642 - val_accuracy: 0.7038\n",
            "Epoch 8/10\n",
            "86/86 [==============================] - 3s 34ms/step - loss: 0.1551 - accuracy: 0.9501 - val_loss: 1.4507 - val_accuracy: 0.7493\n",
            "Epoch 9/10\n",
            "86/86 [==============================] - 3s 35ms/step - loss: 0.0913 - accuracy: 0.9718 - val_loss: 1.7418 - val_accuracy: 0.7082\n",
            "Epoch 10/10\n",
            "86/86 [==============================] - 3s 34ms/step - loss: 0.0951 - accuracy: 0.9707 - val_loss: 1.4887 - val_accuracy: 0.7331\n"
          ]
        }
      ]
    },
    {
      "cell_type": "code",
      "source": [
        "plot_graphs(logs[MODEL_NAME], 'accuracy')"
      ],
      "metadata": {
        "colab": {
          "base_uri": "https://localhost:8080/",
          "height": 279
        },
        "id": "9l8dIZEXh1B8",
        "outputId": "c12d3e83-2aca-403a-9f9a-c61b0adadb20"
      },
      "execution_count": 60,
      "outputs": [
        {
          "output_type": "display_data",
          "data": {
            "text/plain": [
              "<Figure size 432x288 with 1 Axes>"
            ],
            "image/png": "[encoded data removed]"
          },
          "metadata": {
            "needs_background": "light"
          }
        }
      ]
    },
    {
      "cell_type": "markdown",
      "source": [
        "## Adding dropout\n",
        "implies to train for more epochs to reach similar accuracy"
      ],
      "metadata": {
        "id": "gdSBJRZ8kdSl"
      }
    },
    {
      "cell_type": "code",
      "source": [
        "model3 = Sequential([\n",
        "    Rescaling(1./255, input_shape=img_shape),\n",
        "    Conv2D(16, padding='same', kernel_size=(7,7), activation='relu'),\n",
        "    Dropout(0.4),\n",
        "    MaxPooling2D(padding='same'),\n",
        "    Dropout(0.3),\n",
        "    Conv2D(32, kernel_size=(5,5), activation='relu'),\n",
        "    Dropout(0.4),\n",
        "    MaxPooling2D(),\n",
        "    Dropout(0.3),\n",
        "    Conv2D(64, kernel_size=(5,5), activation='relu'),\n",
        "    Dropout(0.4),\n",
        "    MaxPooling2D(),\n",
        "    Conv2D(128, kernel_size=(3,3), activation='relu'),\n",
        "    MaxPooling2D(),\n",
        "    Dropout(0.4),\n",
        "    Conv2D(256, kernel_size=(3,3), activation='relu'),\n",
        "    MaxPooling2D(),\n",
        "    Flatten(),\n",
        "    Dense(256, activation='relu'),\n",
        "    Dense(num_classes, activation='softmax')\n",
        "])\n",
        "\n",
        "\n",
        "model3.compile(\n",
        "    optimizer=tf.keras.optimizers.Adam(learning_rate=learning_rate),\n",
        "    loss='sparse_categorical_crossentropy',\n",
        "    metrics=['accuracy']\n",
        "  )"
      ],
      "metadata": {
        "id": "QipHt_Q1j5sk"
      },
      "execution_count": 108,
      "outputs": []
    },
    {
      "cell_type": "code",
      "source": [
        "MODEL_NAME = 'dropout'\n",
        "EPOCHS=20\n",
        "\n",
        "logs[MODEL_NAME] = model3.fit(\n",
        "    train_ds,\n",
        "    validation_data = val_ds,\n",
        "    epochs = EPOCHS,\n",
        ")"
      ],
      "metadata": {
        "colab": {
          "base_uri": "https://localhost:8080/"
        },
        "id": "niTQqe2vl0Da",
        "outputId": "5e260c8e-1bb2-44e8-a554-e84da1741ef3"
      },
      "execution_count": 109,
      "outputs": [
        {
          "output_type": "stream",
          "name": "stdout",
          "text": [
            "Epoch 1/20\n",
            "86/86 [==============================] - 5s 48ms/step - loss: 4.1472 - accuracy: 0.0147 - val_loss: 4.1281 - val_accuracy: 0.0132\n",
            "Epoch 2/20\n",
            "86/86 [==============================] - 4s 45ms/step - loss: 3.9107 - accuracy: 0.0594 - val_loss: 3.9648 - val_accuracy: 0.1012\n",
            "Epoch 3/20\n",
            "86/86 [==============================] - 4s 45ms/step - loss: 2.9485 - accuracy: 0.2302 - val_loss: 3.2466 - val_accuracy: 0.3065\n",
            "Epoch 4/20\n",
            "86/86 [==============================] - 4s 45ms/step - loss: 1.7444 - accuracy: 0.5029 - val_loss: 2.5845 - val_accuracy: 0.5000\n",
            "Epoch 5/20\n",
            "86/86 [==============================] - 4s 45ms/step - loss: 1.1915 - accuracy: 0.6591 - val_loss: 2.1402 - val_accuracy: 0.6290\n",
            "Epoch 6/20\n",
            "86/86 [==============================] - 4s 45ms/step - loss: 0.8235 - accuracy: 0.7482 - val_loss: 1.7459 - val_accuracy: 0.6730\n",
            "Epoch 7/20\n",
            "86/86 [==============================] - 4s 44ms/step - loss: 0.6169 - accuracy: 0.8039 - val_loss: 1.7068 - val_accuracy: 0.6979\n",
            "Epoch 8/20\n",
            "86/86 [==============================] - 4s 45ms/step - loss: 0.4641 - accuracy: 0.8486 - val_loss: 1.7400 - val_accuracy: 0.6672\n",
            "Epoch 9/20\n",
            "86/86 [==============================] - 4s 44ms/step - loss: 0.3617 - accuracy: 0.8864 - val_loss: 1.2412 - val_accuracy: 0.7199\n",
            "Epoch 10/20\n",
            "86/86 [==============================] - 4s 44ms/step - loss: 0.2707 - accuracy: 0.9124 - val_loss: 1.3657 - val_accuracy: 0.7126\n",
            "Epoch 11/20\n",
            "86/86 [==============================] - 4s 44ms/step - loss: 0.2183 - accuracy: 0.9274 - val_loss: 1.3411 - val_accuracy: 0.7009\n",
            "Epoch 12/20\n",
            "86/86 [==============================] - 4s 44ms/step - loss: 0.2169 - accuracy: 0.9293 - val_loss: 1.2478 - val_accuracy: 0.7111\n",
            "Epoch 13/20\n",
            "86/86 [==============================] - 4s 44ms/step - loss: 0.1846 - accuracy: 0.9344 - val_loss: 1.2252 - val_accuracy: 0.7097\n",
            "Epoch 14/20\n",
            "86/86 [==============================] - 4s 44ms/step - loss: 0.1484 - accuracy: 0.9472 - val_loss: 1.1246 - val_accuracy: 0.6891\n",
            "Epoch 15/20\n",
            "86/86 [==============================] - 4s 44ms/step - loss: 0.1846 - accuracy: 0.9355 - val_loss: 1.1945 - val_accuracy: 0.7243\n",
            "Epoch 16/20\n",
            "86/86 [==============================] - 4s 44ms/step - loss: 0.1251 - accuracy: 0.9556 - val_loss: 1.1491 - val_accuracy: 0.6935\n",
            "Epoch 17/20\n",
            "86/86 [==============================] - 4s 45ms/step - loss: 0.1358 - accuracy: 0.9479 - val_loss: 1.0884 - val_accuracy: 0.7229\n",
            "Epoch 18/20\n",
            "86/86 [==============================] - 4s 45ms/step - loss: 0.1289 - accuracy: 0.9523 - val_loss: 1.1251 - val_accuracy: 0.7155\n",
            "Epoch 19/20\n",
            "86/86 [==============================] - 4s 44ms/step - loss: 0.0945 - accuracy: 0.9681 - val_loss: 1.0369 - val_accuracy: 0.7199\n",
            "Epoch 20/20\n",
            "86/86 [==============================] - 4s 44ms/step - loss: 0.1230 - accuracy: 0.9608 - val_loss: 1.1229 - val_accuracy: 0.7009\n"
          ]
        }
      ]
    },
    {
      "cell_type": "code",
      "source": [
        "plot_graphs(logs[MODEL_NAME], 'accuracy')"
      ],
      "metadata": {
        "colab": {
          "base_uri": "https://localhost:8080/",
          "height": 279
        },
        "id": "LD2zj5mZl7Hb",
        "outputId": "3e0eee56-cc74-4c10-c9fd-17bdb806dd5c"
      },
      "execution_count": 107,
      "outputs": [
        {
          "output_type": "display_data",
          "data": {
            "text/plain": [
              "<Figure size 432x288 with 1 Axes>"
            ],
            "image/png": "[encoded data removed]"
          },
          "metadata": {
            "needs_background": "light"
          }
        }
      ]
    },
    {
      "cell_type": "markdown",
      "source": [
        "## Data augmentation"
      ],
      "metadata": {
        "id": "hT4xg-SJvre_"
      }
    },
    {
      "cell_type": "code",
      "source": [
        "data_augmentation = Sequential(\n",
        "  [\n",
        "    GaussianNoise(0.2),\n",
        "    RandomRotation((-0.1, 0.1)),\n",
        "    RandomZoom(0.1, 0.1),\n",
        "  ]\n",
        ")\n",
        "\n",
        "model4 = Sequential([\n",
        "    data_augmentation,\n",
        "    tf.keras.models.clone_model(model3)\n",
        "])\n",
        "\n",
        "model4.compile(\n",
        "    optimizer=tf.keras.optimizers.Adam(learning_rate=learning_rate),\n",
        "    loss='sparse_categorical_crossentropy',\n",
        "    metrics=['accuracy']\n",
        "  )\n"
      ],
      "metadata": {
        "id": "_yaMLwjQvvrO"
      },
      "execution_count": 76,
      "outputs": []
    },
    {
      "cell_type": "code",
      "source": [
        "MODEL_NAME = 'data_augmentation'\n",
        "\n",
        "logs[MODEL_NAME] = model4.fit(\n",
        "    train_ds,\n",
        "    validation_data = val_ds,\n",
        "    epochs = EPOCHS\n",
        ")"
      ],
      "metadata": {
        "colab": {
          "base_uri": "https://localhost:8080/"
        },
        "id": "5eJERiaEwkJ0",
        "outputId": "1418ed1d-62fa-4d7e-8c8a-84f7a51cafe5"
      },
      "execution_count": 77,
      "outputs": [
        {
          "output_type": "stream",
          "name": "stdout",
          "text": [
            "Epoch 1/20\n",
            "86/86 [==============================] - 5s 48ms/step - loss: 4.1457 - accuracy: 0.0161 - val_loss: 4.1285 - val_accuracy: 0.0073\n",
            "Epoch 2/20\n",
            "86/86 [==============================] - 4s 46ms/step - loss: 4.0786 - accuracy: 0.0319 - val_loss: 3.9982 - val_accuracy: 0.0762\n",
            "Epoch 3/20\n",
            "86/86 [==============================] - 4s 47ms/step - loss: 3.5634 - accuracy: 0.1059 - val_loss: 3.6781 - val_accuracy: 0.1994\n",
            "Epoch 4/20\n",
            "86/86 [==============================] - 4s 46ms/step - loss: 2.9012 - accuracy: 0.2298 - val_loss: 3.0191 - val_accuracy: 0.4150\n",
            "Epoch 5/20\n",
            "86/86 [==============================] - 4s 46ms/step - loss: 2.2219 - accuracy: 0.3985 - val_loss: 2.7512 - val_accuracy: 0.5147\n",
            "Epoch 6/20\n",
            "86/86 [==============================] - 4s 46ms/step - loss: 1.6629 - accuracy: 0.5315 - val_loss: 2.2431 - val_accuracy: 0.5924\n",
            "Epoch 7/20\n",
            "86/86 [==============================] - 4s 46ms/step - loss: 1.3310 - accuracy: 0.6169 - val_loss: 2.0419 - val_accuracy: 0.6378\n",
            "Epoch 8/20\n",
            "86/86 [==============================] - 4s 46ms/step - loss: 1.1144 - accuracy: 0.6584 - val_loss: 1.8108 - val_accuracy: 0.7038\n",
            "Epoch 9/20\n",
            "86/86 [==============================] - 4s 46ms/step - loss: 0.9783 - accuracy: 0.7111 - val_loss: 1.8021 - val_accuracy: 0.6877\n",
            "Epoch 10/20\n",
            "86/86 [==============================] - 4s 46ms/step - loss: 0.8589 - accuracy: 0.7471 - val_loss: 1.4162 - val_accuracy: 0.7155\n",
            "Epoch 11/20\n",
            "86/86 [==============================] - 4s 46ms/step - loss: 0.7926 - accuracy: 0.7584 - val_loss: 1.5169 - val_accuracy: 0.7273\n",
            "Epoch 12/20\n",
            "86/86 [==============================] - 4s 45ms/step - loss: 0.7053 - accuracy: 0.7768 - val_loss: 1.5184 - val_accuracy: 0.7243\n",
            "Epoch 13/20\n",
            "86/86 [==============================] - 4s 46ms/step - loss: 0.6538 - accuracy: 0.7812 - val_loss: 1.2980 - val_accuracy: 0.7390\n",
            "Epoch 14/20\n",
            "86/86 [==============================] - 4s 45ms/step - loss: 0.6016 - accuracy: 0.8024 - val_loss: 1.3101 - val_accuracy: 0.7302\n",
            "Epoch 15/20\n",
            "86/86 [==============================] - 4s 45ms/step - loss: 0.5627 - accuracy: 0.8134 - val_loss: 1.2707 - val_accuracy: 0.7317\n",
            "Epoch 16/20\n",
            "86/86 [==============================] - 4s 46ms/step - loss: 0.5381 - accuracy: 0.8277 - val_loss: 1.1794 - val_accuracy: 0.7463\n",
            "Epoch 17/20\n",
            "86/86 [==============================] - 4s 45ms/step - loss: 0.4996 - accuracy: 0.8343 - val_loss: 1.2570 - val_accuracy: 0.7537\n",
            "Epoch 18/20\n",
            "86/86 [==============================] - 4s 45ms/step - loss: 0.4559 - accuracy: 0.8552 - val_loss: 1.0982 - val_accuracy: 0.7654\n",
            "Epoch 19/20\n",
            "86/86 [==============================] - 4s 46ms/step - loss: 0.4238 - accuracy: 0.8596 - val_loss: 1.1065 - val_accuracy: 0.7610\n",
            "Epoch 20/20\n",
            "86/86 [==============================] - 4s 46ms/step - loss: 0.4012 - accuracy: 0.8647 - val_loss: 1.0120 - val_accuracy: 0.7595\n"
          ]
        }
      ]
    },
    {
      "cell_type": "code",
      "source": [
        "plot_graphs(logs[MODEL_NAME], 'accuracy')"
      ],
      "metadata": {
        "colab": {
          "base_uri": "https://localhost:8080/",
          "height": 279
        },
        "id": "nJUesghOyDne",
        "outputId": "531e99ae-5689-4dd9-c223-e91538a850c5"
      },
      "execution_count": 78,
      "outputs": [
        {
          "output_type": "display_data",
          "data": {
            "text/plain": [
              "<Figure size 432x288 with 1 Axes>"
            ],
            "image/png": "[encoded data removed]"
          },
          "metadata": {
            "needs_background": "light"
          }
        }
      ]
    },
    {
      "cell_type": "markdown",
      "source": [
        "## Adjusting learning rate \n",
        "adding callbacks to adjust learning rate and do early stopping"
      ],
      "metadata": {
        "id": "Vc3jqIfKoOit"
      }
    },
    {
      "cell_type": "code",
      "source": [
        "# early stopping\n",
        "cb_EarlyStopping = tf.keras.callbacks.EarlyStopping(\n",
        "    monitor='val_loss',\n",
        "    min_delta=1e-4,\n",
        "    patience=10,\n",
        "    verbose=1,\n",
        "    restore_best_weights=True,\n",
        ")\n",
        "\n",
        "# learning rate scheduler\n",
        "def scheduler(epoch, lr):\n",
        "  #if epoch <8:\n",
        "  #  if epoch <4:\n",
        "  #    return lr/ tf.math.exp(-0.01*epoch)\n",
        "  #  return lr* tf.math.exp(-0.01*epoch)\n",
        "\n",
        "  if epoch < 10:\n",
        "    return lr\n",
        "  else:\n",
        "    return lr * tf.math.exp(-0.01*epoch)\n",
        "\n",
        "cb_LRScheduler = tf.keras.callbacks.LearningRateScheduler(scheduler)"
      ],
      "metadata": {
        "id": "X-nO0qfLol-e"
      },
      "execution_count": 110,
      "outputs": []
    },
    {
      "cell_type": "code",
      "source": [
        "model5=tf.keras.models.clone_model(model4)\n",
        "MODEL_NAME = 'adjusted_learning_rate'\n",
        "\n",
        "model5.compile(\n",
        "    optimizer=tf.keras.optimizers.Adam(learning_rate=learning_rate),\n",
        "    loss='sparse_categorical_crossentropy',\n",
        "    metrics=['accuracy']\n",
        "  )\n",
        "\n",
        "EPOCHS=30\n",
        "\n",
        "logs[MODEL_NAME] = model5.fit(\n",
        "    train_ds,\n",
        "    validation_data = val_ds,\n",
        "    epochs = EPOCHS,\n",
        "    callbacks=[cb_EarlyStopping, cb_LRScheduler]\n",
        ")"
      ],
      "metadata": {
        "colab": {
          "base_uri": "https://localhost:8080/"
        },
        "id": "Z3qRjA61otLO",
        "outputId": "111f130f-f722-4c25-ef4d-5d682c5c8ac7"
      },
      "execution_count": 111,
      "outputs": [
        {
          "output_type": "stream",
          "name": "stdout",
          "text": [
            "Epoch 1/30\n",
            "86/86 [==============================] - 5s 48ms/step - loss: 4.1524 - accuracy: 0.0103 - val_loss: 4.1282 - val_accuracy: 0.0103 - lr: 0.0010\n",
            "Epoch 2/30\n",
            "86/86 [==============================] - 4s 46ms/step - loss: 4.1269 - accuracy: 0.0161 - val_loss: 4.1269 - val_accuracy: 0.0205 - lr: 0.0010\n",
            "Epoch 3/30\n",
            "86/86 [==============================] - 4s 47ms/step - loss: 3.8721 - accuracy: 0.0462 - val_loss: 3.8498 - val_accuracy: 0.1525 - lr: 0.0010\n",
            "Epoch 4/30\n",
            "86/86 [==============================] - 4s 47ms/step - loss: 3.2484 - accuracy: 0.1631 - val_loss: 3.3232 - val_accuracy: 0.3123 - lr: 0.0010\n",
            "Epoch 5/30\n",
            "86/86 [==============================] - 4s 47ms/step - loss: 2.5003 - accuracy: 0.3266 - val_loss: 2.9944 - val_accuracy: 0.4853 - lr: 0.0010\n",
            "Epoch 6/30\n",
            "86/86 [==============================] - 4s 46ms/step - loss: 1.8547 - accuracy: 0.4828 - val_loss: 2.4084 - val_accuracy: 0.5704 - lr: 0.0010\n",
            "Epoch 7/30\n",
            "86/86 [==============================] - 4s 46ms/step - loss: 1.4349 - accuracy: 0.5759 - val_loss: 2.1148 - val_accuracy: 0.6554 - lr: 0.0010\n",
            "Epoch 8/30\n",
            "86/86 [==============================] - 4s 46ms/step - loss: 1.1973 - accuracy: 0.6371 - val_loss: 1.7096 - val_accuracy: 0.6848 - lr: 0.0010\n",
            "Epoch 9/30\n",
            "86/86 [==============================] - 4s 46ms/step - loss: 1.0431 - accuracy: 0.6921 - val_loss: 1.7473 - val_accuracy: 0.6965 - lr: 0.0010\n",
            "Epoch 10/30\n",
            "86/86 [==============================] - 4s 46ms/step - loss: 0.9156 - accuracy: 0.7126 - val_loss: 1.7610 - val_accuracy: 0.7243 - lr: 0.0010\n",
            "Epoch 11/30\n",
            "86/86 [==============================] - 4s 46ms/step - loss: 0.7883 - accuracy: 0.7581 - val_loss: 1.5437 - val_accuracy: 0.7405 - lr: 9.0484e-04\n",
            "Epoch 12/30\n",
            "86/86 [==============================] - 4s 46ms/step - loss: 0.7075 - accuracy: 0.7845 - val_loss: 1.5997 - val_accuracy: 0.7551 - lr: 8.1058e-04\n",
            "Epoch 13/30\n",
            "86/86 [==============================] - 4s 45ms/step - loss: 0.6019 - accuracy: 0.8090 - val_loss: 1.3348 - val_accuracy: 0.7595 - lr: 7.1892e-04\n",
            "Epoch 14/30\n",
            "86/86 [==============================] - 4s 45ms/step - loss: 0.5309 - accuracy: 0.8248 - val_loss: 1.3473 - val_accuracy: 0.7405 - lr: 6.3128e-04\n",
            "Epoch 15/30\n",
            "86/86 [==============================] - 4s 46ms/step - loss: 0.4877 - accuracy: 0.8416 - val_loss: 1.2265 - val_accuracy: 0.7537 - lr: 5.4881e-04\n",
            "Epoch 16/30\n",
            "86/86 [==============================] - 4s 46ms/step - loss: 0.4405 - accuracy: 0.8596 - val_loss: 1.1304 - val_accuracy: 0.7581 - lr: 4.7237e-04\n",
            "Epoch 17/30\n",
            "86/86 [==============================] - 4s 46ms/step - loss: 0.4015 - accuracy: 0.8596 - val_loss: 1.1764 - val_accuracy: 0.7742 - lr: 4.0252e-04\n",
            "Epoch 18/30\n",
            "86/86 [==============================] - 4s 46ms/step - loss: 0.3529 - accuracy: 0.8867 - val_loss: 1.0122 - val_accuracy: 0.7698 - lr: 3.3960e-04\n",
            "Epoch 19/30\n",
            "86/86 [==============================] - 4s 46ms/step - loss: 0.3491 - accuracy: 0.8816 - val_loss: 1.0823 - val_accuracy: 0.7683 - lr: 2.8365e-04\n",
            "Epoch 20/30\n",
            "86/86 [==============================] - 4s 46ms/step - loss: 0.3174 - accuracy: 0.8959 - val_loss: 1.0072 - val_accuracy: 0.7859 - lr: 2.3457e-04\n",
            "Epoch 21/30\n",
            "86/86 [==============================] - 4s 46ms/step - loss: 0.2918 - accuracy: 0.9010 - val_loss: 0.9791 - val_accuracy: 0.7815 - lr: 1.9205e-04\n",
            "Epoch 22/30\n",
            "86/86 [==============================] - 4s 46ms/step - loss: 0.2468 - accuracy: 0.9175 - val_loss: 0.9182 - val_accuracy: 0.7859 - lr: 1.5567e-04\n",
            "Epoch 23/30\n",
            "86/86 [==============================] - 4s 46ms/step - loss: 0.2503 - accuracy: 0.9135 - val_loss: 0.9061 - val_accuracy: 0.7786 - lr: 1.2493e-04\n",
            "Epoch 24/30\n",
            "86/86 [==============================] - 4s 46ms/step - loss: 0.2397 - accuracy: 0.9161 - val_loss: 0.9002 - val_accuracy: 0.7815 - lr: 9.9261e-05\n",
            "Epoch 25/30\n",
            "86/86 [==============================] - 4s 46ms/step - loss: 0.2370 - accuracy: 0.9146 - val_loss: 0.9013 - val_accuracy: 0.7845 - lr: 7.8082e-05\n",
            "Epoch 26/30\n",
            "86/86 [==============================] - 4s 46ms/step - loss: 0.2321 - accuracy: 0.9234 - val_loss: 0.8954 - val_accuracy: 0.7859 - lr: 6.0810e-05\n",
            "Epoch 27/30\n",
            "86/86 [==============================] - 4s 46ms/step - loss: 0.2257 - accuracy: 0.9252 - val_loss: 0.8968 - val_accuracy: 0.7830 - lr: 4.6888e-05\n",
            "Epoch 28/30\n",
            "86/86 [==============================] - 4s 48ms/step - loss: 0.2301 - accuracy: 0.9260 - val_loss: 0.8962 - val_accuracy: 0.7830 - lr: 3.5793e-05\n",
            "Epoch 29/30\n",
            "86/86 [==============================] - 4s 47ms/step - loss: 0.2228 - accuracy: 0.9223 - val_loss: 0.8905 - val_accuracy: 0.7845 - lr: 2.7052e-05\n",
            "Epoch 30/30\n",
            "86/86 [==============================] - 4s 47ms/step - loss: 0.2194 - accuracy: 0.9197 - val_loss: 0.8904 - val_accuracy: 0.7845 - lr: 2.0242e-05\n"
          ]
        }
      ]
    },
    {
      "cell_type": "code",
      "source": [
        "plot_graphs(logs[MODEL_NAME], 'accuracy')\n",
        "\n",
        "plt.plot(logs[MODEL_NAME].history['lr'])\n",
        "plt.xlabel(\"Epochs\")\n",
        "plt.ylabel('learning rate')\n",
        "plt.show()"
      ],
      "metadata": {
        "colab": {
          "base_uri": "https://localhost:8080/",
          "height": 541
        },
        "id": "js358EIYpR9n",
        "outputId": "50ee66e6-9697-4b41-a9c4-80a6f429721e"
      },
      "execution_count": 112,
      "outputs": [
        {
          "output_type": "display_data",
          "data": {
            "text/plain": [
              "<Figure size 432x288 with 1 Axes>"
            ],
            "image/png": "[encoded data removed]"
          },
          "metadata": {
            "needs_background": "light"
          }
        },
        {
          "output_type": "display_data",
          "data": {
            "text/plain": [
              "<Figure size 432x288 with 1 Axes>"
            ],
            "image/png": "[encoded data removed]"
          },
          "metadata": {
            "needs_background": "light"
          }
        }
      ]
    },
    {
      "cell_type": "code",
      "source": [
        "!"
      ],
      "metadata": {
        "colab": {
          "base_uri": "https://localhost:8080/"
        },
        "id": "kB8HxxJDhUBu",
        "outputId": "00dcc584-2b9e-48f6-bef6-b02dc0618a60"
      },
      "execution_count": 115,
      "outputs": [
        {
          "output_type": "stream",
          "name": "stdout",
          "text": [
            "fatal: not a git repository (or any of the parent directories): .git\n"
          ]
        }
      ]
    }
  ]
}