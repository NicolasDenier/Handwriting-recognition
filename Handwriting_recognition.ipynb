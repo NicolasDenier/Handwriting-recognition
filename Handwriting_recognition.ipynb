{
  "nbformat": 4,
  "nbformat_minor": 0,
  "metadata": {
    "colab": {
      "provenance": [],
      "include_colab_link": true
    },
    "kernelspec": {
      "name": "python3",
      "display_name": "Python 3"
    },
    "language_info": {
      "name": "python"
    },
    "accelerator": "GPU",
    "gpuClass": "standard"
  },
  "cells": [
    {
      "cell_type": "markdown",
      "metadata": {
        "id": "view-in-github",
        "colab_type": "text"
      },
      "source": [
        "<a href=\"https://colab.research.google.com/github/NicolasDenier/Handwriting-recognition/blob/main/Handwriting_recognition.ipynb\" target=\"_parent\"><img src=\"https://colab.research.google.com/assets/colab-badge.svg\" alt=\"Open In Colab\"/></a>"
      ]
    },
    {
      "cell_type": "code",
      "source": [
        "import matplotlib.pyplot as plt\n",
        "from matplotlib import image\n",
        "import numpy as np\n",
        "import pandas as pd \n",
        "import os\n",
        "import random\n",
        "import tensorflow as tf\n",
        "from tensorflow import keras\n",
        "from tensorflow.keras.models import Sequential\n",
        "from tensorflow.keras.layers import Dense, Conv2D, MaxPooling2D, Flatten, Rescaling, Reshape, Dropout, RandomRotation, RandomZoom, GaussianNoise"
      ],
      "metadata": {
        "id": "2Esp-XyFlcva"
      },
      "execution_count": 87,
      "outputs": []
    },
    {
      "cell_type": "code",
      "source": [
        "from google.colab import drive\n",
        "drive.mount('/content/drive')"
      ],
      "metadata": {
        "id": "eiHuBwrOrMIr",
        "colab": {
          "base_uri": "https://localhost:8080/"
        },
        "outputId": "fd813352-dcff-442a-952f-c80221b38561"
      },
      "execution_count": 3,
      "outputs": [
        {
          "output_type": "stream",
          "name": "stdout",
          "text": [
            "Mounted at /content/drive\n"
          ]
        }
      ]
    },
    {
      "cell_type": "code",
      "source": [
        "# Metadata: label and path of each image\n",
        "characters_data_url = \"drive/My Drive/OCR-data/characters/\" # \"drive/My Drive/Colab Notebooks/OCR-data/characters/\"\n",
        "characters = pd.read_csv(characters_data_url + \"english.csv\")\n",
        "characters.head()"
      ],
      "metadata": {
        "colab": {
          "base_uri": "https://localhost:8080/",
          "height": 206
        },
        "id": "1PJ5FlHDmLvi",
        "outputId": "c58b4997-559d-4b08-f322-814658956209"
      },
      "execution_count": 4,
      "outputs": [
        {
          "output_type": "execute_result",
          "data": {
            "text/plain": [
              "                image label\n",
              "0  Img/img001-001.png     0\n",
              "1  Img/img001-002.png     0\n",
              "2  Img/img001-003.png     0\n",
              "3  Img/img001-004.png     0\n",
              "4  Img/img001-005.png     0"
            ],
            "text/html": [
              "\n",
              "  <div id=\"df-ea95f360-ff10-4bc7-9eeb-866bfc423adc\">\n",
              "    <div class=\"colab-df-container\">\n",
              "      <div>\n",
              "<style scoped>\n",
              "    .dataframe tbody tr th:only-of-type {\n",
              "        vertical-align: middle;\n",
              "    }\n",
              "\n",
              "    .dataframe tbody tr th {\n",
              "        vertical-align: top;\n",
              "    }\n",
              "\n",
              "    .dataframe thead th {\n",
              "        text-align: right;\n",
              "    }\n",
              "</style>\n",
              "<table border=\"1\" class=\"dataframe\">\n",
              "  <thead>\n",
              "    <tr style=\"text-align: right;\">\n",
              "      <th></th>\n",
              "      <th>image</th>\n",
              "      <th>label</th>\n",
              "    </tr>\n",
              "  </thead>\n",
              "  <tbody>\n",
              "    <tr>\n",
              "      <th>0</th>\n",
              "      <td>Img/img001-001.png</td>\n",
              "      <td>0</td>\n",
              "    </tr>\n",
              "    <tr>\n",
              "      <th>1</th>\n",
              "      <td>Img/img001-002.png</td>\n",
              "      <td>0</td>\n",
              "    </tr>\n",
              "    <tr>\n",
              "      <th>2</th>\n",
              "      <td>Img/img001-003.png</td>\n",
              "      <td>0</td>\n",
              "    </tr>\n",
              "    <tr>\n",
              "      <th>3</th>\n",
              "      <td>Img/img001-004.png</td>\n",
              "      <td>0</td>\n",
              "    </tr>\n",
              "    <tr>\n",
              "      <th>4</th>\n",
              "      <td>Img/img001-005.png</td>\n",
              "      <td>0</td>\n",
              "    </tr>\n",
              "  </tbody>\n",
              "</table>\n",
              "</div>\n",
              "      <button class=\"colab-df-convert\" onclick=\"convertToInteractive('df-ea95f360-ff10-4bc7-9eeb-866bfc423adc')\"\n",
              "              title=\"Convert this dataframe to an interactive table.\"\n",
              "              style=\"display:none;\">\n",
              "        \n",
              "  <svg xmlns=\"http://www.w3.org/2000/svg\" height=\"24px\"viewBox=\"0 0 24 24\"\n",
              "       width=\"24px\">\n",
              "    <path d=\"M0 0h24v24H0V0z\" fill=\"none\"/>\n",
              "    <path d=\"M18.56 5.44l.94 2.06.94-2.06 2.06-.94-2.06-.94-.94-2.06-.94 2.06-2.06.94zm-11 1L8.5 8.5l.94-2.06 2.06-.94-2.06-.94L8.5 2.5l-.94 2.06-2.06.94zm10 10l.94 2.06.94-2.06 2.06-.94-2.06-.94-.94-2.06-.94 2.06-2.06.94z\"/><path d=\"M17.41 7.96l-1.37-1.37c-.4-.4-.92-.59-1.43-.59-.52 0-1.04.2-1.43.59L10.3 9.45l-7.72 7.72c-.78.78-.78 2.05 0 2.83L4 21.41c.39.39.9.59 1.41.59.51 0 1.02-.2 1.41-.59l7.78-7.78 2.81-2.81c.8-.78.8-2.07 0-2.86zM5.41 20L4 18.59l7.72-7.72 1.47 1.35L5.41 20z\"/>\n",
              "  </svg>\n",
              "      </button>\n",
              "      \n",
              "  <style>\n",
              "    .colab-df-container {\n",
              "      display:flex;\n",
              "      flex-wrap:wrap;\n",
              "      gap: 12px;\n",
              "    }\n",
              "\n",
              "    .colab-df-convert {\n",
              "      background-color: #E8F0FE;\n",
              "      border: none;\n",
              "      border-radius: 50%;\n",
              "      cursor: pointer;\n",
              "      display: none;\n",
              "      fill: #1967D2;\n",
              "      height: 32px;\n",
              "      padding: 0 0 0 0;\n",
              "      width: 32px;\n",
              "    }\n",
              "\n",
              "    .colab-df-convert:hover {\n",
              "      background-color: #E2EBFA;\n",
              "      box-shadow: 0px 1px 2px rgba(60, 64, 67, 0.3), 0px 1px 3px 1px rgba(60, 64, 67, 0.15);\n",
              "      fill: #174EA6;\n",
              "    }\n",
              "\n",
              "    [theme=dark] .colab-df-convert {\n",
              "      background-color: #3B4455;\n",
              "      fill: #D2E3FC;\n",
              "    }\n",
              "\n",
              "    [theme=dark] .colab-df-convert:hover {\n",
              "      background-color: #434B5C;\n",
              "      box-shadow: 0px 1px 3px 1px rgba(0, 0, 0, 0.15);\n",
              "      filter: drop-shadow(0px 1px 2px rgba(0, 0, 0, 0.3));\n",
              "      fill: #FFFFFF;\n",
              "    }\n",
              "  </style>\n",
              "\n",
              "      <script>\n",
              "        const buttonEl =\n",
              "          document.querySelector('#df-ea95f360-ff10-4bc7-9eeb-866bfc423adc button.colab-df-convert');\n",
              "        buttonEl.style.display =\n",
              "          google.colab.kernel.accessAllowed ? 'block' : 'none';\n",
              "\n",
              "        async function convertToInteractive(key) {\n",
              "          const element = document.querySelector('#df-ea95f360-ff10-4bc7-9eeb-866bfc423adc');\n",
              "          const dataTable =\n",
              "            await google.colab.kernel.invokeFunction('convertToInteractive',\n",
              "                                                     [key], {});\n",
              "          if (!dataTable) return;\n",
              "\n",
              "          const docLinkHtml = 'Like what you see? Visit the ' +\n",
              "            '<a target=\"_blank\" href=https://colab.research.google.com/notebooks/data_table.ipynb>data table notebook</a>'\n",
              "            + ' to learn more about interactive tables.';\n",
              "          element.innerHTML = '';\n",
              "          dataTable['output_type'] = 'display_data';\n",
              "          await google.colab.output.renderOutput(dataTable, element);\n",
              "          const docLink = document.createElement('div');\n",
              "          docLink.innerHTML = docLinkHtml;\n",
              "          element.appendChild(docLink);\n",
              "        }\n",
              "      </script>\n",
              "    </div>\n",
              "  </div>\n",
              "  "
            ]
          },
          "metadata": {},
          "execution_count": 4
        }
      ]
    },
    {
      "cell_type": "code",
      "source": [
        "# Show a single image to have an idea of the data\n",
        "img = image.imread(characters_data_url+characters['image'][1234])\n",
        "print(img.shape)\n",
        "plt.imshow(img)\n",
        "plt.show()"
      ],
      "metadata": {
        "colab": {
          "base_uri": "https://localhost:8080/",
          "height": 287
        },
        "id": "KpCxwle3o1aT",
        "outputId": "476f7b46-13b0-4a42-fccb-f1af590afc5b"
      },
      "execution_count": 5,
      "outputs": [
        {
          "output_type": "stream",
          "name": "stdout",
          "text": [
            "(900, 1200, 3)\n"
          ]
        },
        {
          "output_type": "display_data",
          "data": {
            "text/plain": [
              "<Figure size 432x288 with 1 Axes>"
            ],
            "image/png": "[encoded data removed]"
          },
          "metadata": {
            "needs_background": "light"
          }
        }
      ]
    },
    {
      "cell_type": "code",
      "source": [
        "# Number of images in a batch\n",
        "batch_size = 64\n",
        "# The desired image size\n",
        "img_height = 90\n",
        "img_width = 120\n",
        "SEED=22"
      ],
      "metadata": {
        "id": "J4lBptM52GHi"
      },
      "execution_count": 90,
      "outputs": []
    },
    {
      "cell_type": "code",
      "source": [
        "classes = characters['label'].unique() # list of classes\n",
        "num_classes=len(characters['label'].unique()) # number of classes (10 diits + 26 lowercase + 26 uppercase = 62)\n",
        "label_to_int = {classes[i]:i for i in range(num_classes)} # dict to get an unique id as int for each class\n",
        "int_to_label = {value:key for key, value in label_to_int.items()} # dict to get back a string label from an int\n",
        "labels = [label_to_int[l] for l in characters['label']] # list of labels as int"
      ],
      "metadata": {
        "id": "-IY2KtnowRdx"
      },
      "execution_count": 40,
      "outputs": []
    },
    {
      "cell_type": "code",
      "source": [
        "# Prepare the data stream batches (it avoids to overload the RAM)\n",
        "train_ds = tf.keras.utils.image_dataset_from_directory(\n",
        "    characters_data_url,\n",
        "    labels = labels,\n",
        "    batch_size = batch_size,\n",
        "    image_size = (img_height, img_width),\n",
        "    color_mode = 'grayscale',\n",
        "    seed=10,\n",
        "    validation_split = 0.2,\n",
        "    shuffle=True,\n",
        "    subset = \"training\"\n",
        "    )\n",
        "\n",
        "# For some reason the labels are definitely shuffled and need to be redefined\n",
        "labels = [label_to_int[l] for l in characters['label']]\n",
        "\n",
        "val_ds = tf.keras.utils.image_dataset_from_directory(\n",
        "    characters_data_url,\n",
        "    labels = labels,\n",
        "    batch_size = batch_size,\n",
        "    image_size = (img_height, img_width),\n",
        "    color_mode = 'grayscale',\n",
        "    seed=SEED,\n",
        "    validation_split = 0.2,\n",
        "    shuffle=True,\n",
        "    subset = \"validation\"\n",
        "    )\n"
      ],
      "metadata": {
        "colab": {
          "base_uri": "https://localhost:8080/"
        },
        "id": "M5cbn1qg5lwx",
        "outputId": "ac523eb2-8bd4-4fc9-b223-35505c0dd29b"
      },
      "execution_count": 41,
      "outputs": [
        {
          "output_type": "stream",
          "name": "stdout",
          "text": [
            "Found 3410 files belonging to 1 classes.\n",
            "Using 2728 files for training.\n",
            "Found 3410 files belonging to 1 classes.\n",
            "Using 682 files for validation.\n"
          ]
        }
      ]
    },
    {
      "cell_type": "code",
      "source": [
        "# Check that the labels are correct\n",
        "def plot_char(image, title):\n",
        "  plt.figure(figsize=(2, 2))\n",
        "  plt.imshow(np.reshape(image,(img_height, img_width)), cmap=\"gray\")\n",
        "  plt.axis('off')\n",
        "  plt.title(title, fontsize=20)\n",
        "  plt.show()\n",
        "\n",
        "for image, label in val_ds:\n",
        "    print(image.shape)\n",
        "    print(label.shape)\n",
        "    for i in range(3):\n",
        "      title=int_to_label[label.numpy()[i]]\n",
        "      plot_char(image[i], title)\n",
        "    break"
      ],
      "metadata": {
        "colab": {
          "base_uri": "https://localhost:8080/",
          "height": 410
        },
        "id": "9xgftWwY5F0I",
        "outputId": "958ef056-934b-42e3-8a9d-e394f9d0b169"
      },
      "execution_count": 169,
      "outputs": [
        {
          "output_type": "stream",
          "name": "stdout",
          "text": [
            "(64, 90, 120, 1)\n",
            "(64,)\n"
          ]
        },
        {
          "output_type": "display_data",
          "data": {
            "text/plain": [
              "<Figure size 144x144 with 1 Axes>"
            ],
            "image/png": "[encoded data removed]"
          },
          "metadata": {
            "needs_background": "light"
          }
        },
        {
          "output_type": "display_data",
          "data": {
            "text/plain": [
              "<Figure size 144x144 with 1 Axes>"
            ],
            "image/png": "[encoded data removed]"
          },
          "metadata": {
            "needs_background": "light"
          }
        },
        {
          "output_type": "display_data",
          "data": {
            "text/plain": [
              "<Figure size 144x144 with 1 Axes>"
            ],
            "image/png": "[encoded data removed]"
          },
          "metadata": {
            "needs_background": "light"
          }
        }
      ]
    },
    {
      "cell_type": "code",
      "source": [
        "# Better memory performances\n",
        "AUTOTUNE = tf.data.AUTOTUNE\n",
        "\n",
        "train_ds = train_ds.cache().shuffle(1000).prefetch(buffer_size=AUTOTUNE)\n",
        "val_ds = val_ds.cache().prefetch(buffer_size=AUTOTUNE)"
      ],
      "metadata": {
        "id": "HI6Y0y2uVa-G"
      },
      "execution_count": 43,
      "outputs": []
    },
    {
      "cell_type": "markdown",
      "source": [
        "## First model"
      ],
      "metadata": {
        "id": "F4lFD5K0j_Bd"
      }
    },
    {
      "cell_type": "code",
      "source": [
        "img_shape = (img_height, img_width, 1)\n",
        "\n",
        "# define model\n",
        "model1 = Sequential([\n",
        "    Rescaling(1./255, input_shape=img_shape),\n",
        "    Conv2D(16, padding='same', kernel_size=(3,3), activation='relu'),\n",
        "    MaxPooling2D(padding='same'),\n",
        "    Conv2D(32, kernel_size=(3,3), activation='relu'),\n",
        "    MaxPooling2D(),\n",
        "    Conv2D(64, kernel_size=(3,3), activation='relu'),\n",
        "    MaxPooling2D(),\n",
        "    Flatten(),\n",
        "    Dense(128, activation='relu'),\n",
        "    Dense(num_classes, activation='softmax')\n",
        "])"
      ],
      "metadata": {
        "id": "qPrC7rHfj-E6"
      },
      "execution_count": 44,
      "outputs": []
    },
    {
      "cell_type": "code",
      "source": [
        "# compile\n",
        "learning_rate = 1e-3\n",
        "model1.compile(\n",
        "    optimizer=tf.keras.optimizers.Adam(learning_rate=learning_rate),\n",
        "    loss='sparse_categorical_crossentropy',\n",
        "    metrics=['accuracy']\n",
        "  )"
      ],
      "metadata": {
        "id": "LbZ-ptdbk5dy"
      },
      "execution_count": 45,
      "outputs": []
    },
    {
      "cell_type": "code",
      "source": [
        "# fit\n",
        "MODEL_NAME = 'base_model'\n",
        "logs = {}\n",
        "EPOCHS = 10\n",
        "logs[MODEL_NAME] = model1.fit(\n",
        "    train_ds,\n",
        "    validation_data = val_ds,\n",
        "    epochs = EPOCHS,\n",
        ")"
      ],
      "metadata": {
        "colab": {
          "base_uri": "https://localhost:8080/"
        },
        "id": "nfImaMK_WDJp",
        "outputId": "6a5fe7c1-36e3-4168-bc5e-31af739ce56a"
      },
      "execution_count": 46,
      "outputs": [
        {
          "output_type": "stream",
          "name": "stdout",
          "text": [
            "Epoch 1/10\n",
            "43/43 [==============================] - 28s 144ms/step - loss: 4.0077 - accuracy: 0.0539 - val_loss: 3.6651 - val_accuracy: 0.1114\n",
            "Epoch 2/10\n",
            "43/43 [==============================] - 1s 17ms/step - loss: 3.1470 - accuracy: 0.2027 - val_loss: 3.1223 - val_accuracy: 0.2229\n",
            "Epoch 3/10\n",
            "43/43 [==============================] - 1s 16ms/step - loss: 2.4455 - accuracy: 0.3787 - val_loss: 2.5980 - val_accuracy: 0.3387\n",
            "Epoch 4/10\n",
            "43/43 [==============================] - 1s 16ms/step - loss: 1.7899 - accuracy: 0.5249 - val_loss: 2.2174 - val_accuracy: 0.4560\n",
            "Epoch 5/10\n",
            "43/43 [==============================] - 1s 16ms/step - loss: 1.2959 - accuracy: 0.6477 - val_loss: 2.0244 - val_accuracy: 0.5000\n",
            "Epoch 6/10\n",
            "43/43 [==============================] - 1s 16ms/step - loss: 0.9172 - accuracy: 0.7456 - val_loss: 1.9889 - val_accuracy: 0.5396\n",
            "Epoch 7/10\n",
            "43/43 [==============================] - 1s 15ms/step - loss: 0.6615 - accuracy: 0.8098 - val_loss: 1.9913 - val_accuracy: 0.5674\n",
            "Epoch 8/10\n",
            "43/43 [==============================] - 1s 15ms/step - loss: 0.4781 - accuracy: 0.8548 - val_loss: 2.0858 - val_accuracy: 0.5792\n",
            "Epoch 9/10\n",
            "43/43 [==============================] - 1s 16ms/step - loss: 0.3333 - accuracy: 0.9014 - val_loss: 2.2844 - val_accuracy: 0.5704\n",
            "Epoch 10/10\n",
            "43/43 [==============================] - 1s 16ms/step - loss: 0.2471 - accuracy: 0.9245 - val_loss: 2.3953 - val_accuracy: 0.5953\n"
          ]
        }
      ]
    },
    {
      "cell_type": "code",
      "source": [
        "def plot_graphs(history, string):\n",
        "  plt.plot(history.history[string])\n",
        "  plt.plot(history.history['val_'+string])\n",
        "  plt.xlabel(\"Epochs\")\n",
        "  plt.ylabel(string)\n",
        "  plt.legend([string, 'val_'+string])\n",
        "  plt.show()"
      ],
      "metadata": {
        "id": "V2_HsdUv744Q"
      },
      "execution_count": 47,
      "outputs": []
    },
    {
      "cell_type": "code",
      "source": [
        "plot_graphs(logs[MODEL_NAME], 'accuracy')"
      ],
      "metadata": {
        "colab": {
          "base_uri": "https://localhost:8080/",
          "height": 279
        },
        "id": "-CTH9bO178Ca",
        "outputId": "8e8c55d0-c68e-4508-92f0-3a55f7087595"
      },
      "execution_count": 48,
      "outputs": [
        {
          "output_type": "display_data",
          "data": {
            "text/plain": [
              "<Figure size 432x288 with 1 Axes>"
            ],
            "image/png": "[encoded data removed]"
          },
          "metadata": {
            "needs_background": "light"
          }
        }
      ]
    },
    {
      "cell_type": "markdown",
      "source": [
        "## More complex model\n",
        "Adding 2 layers with more nodes, changing kernel size"
      ],
      "metadata": {
        "id": "B7nQemvjkF12"
      }
    },
    {
      "cell_type": "code",
      "source": [
        "model2 = Sequential([\n",
        "    Rescaling(1./255, input_shape=img_shape),\n",
        "    Conv2D(16, padding='same', kernel_size=(7,7), activation='relu'),\n",
        "    MaxPooling2D(padding='same'),\n",
        "    Conv2D(32, kernel_size=(5,5), activation='relu'),\n",
        "    MaxPooling2D(),\n",
        "    Conv2D(64, kernel_size=(5,5), activation='relu'),\n",
        "    MaxPooling2D(),\n",
        "    Conv2D(128, padding='same', kernel_size=(3,3), activation='relu'),\n",
        "    MaxPooling2D(padding='same'),\n",
        "    Conv2D(128, kernel_size=(3,3), activation='relu'),\n",
        "    MaxPooling2D(),\n",
        "    Flatten(),\n",
        "    Dense(256, activation='relu'),\n",
        "    Dense(num_classes, activation='softmax')\n",
        "])\n",
        "\n",
        "model2.compile(\n",
        "    optimizer=tf.keras.optimizers.Adam(learning_rate=learning_rate),\n",
        "    loss='sparse_categorical_crossentropy',\n",
        "    metrics=['accuracy']\n",
        "  )"
      ],
      "metadata": {
        "id": "wJlZFUMRhL4B"
      },
      "execution_count": 61,
      "outputs": []
    },
    {
      "cell_type": "code",
      "source": [
        "# fit\n",
        "MODEL_NAME = 'more_complex'\n",
        "\n",
        "logs[MODEL_NAME] = model2.fit(\n",
        "    train_ds,\n",
        "    validation_data = val_ds,\n",
        "    epochs = EPOCHS,\n",
        ")"
      ],
      "metadata": {
        "colab": {
          "base_uri": "https://localhost:8080/"
        },
        "id": "gASu-f49hstT",
        "outputId": "301e7d76-ee9a-45f0-c4bf-b5034308ef5a"
      },
      "execution_count": 53,
      "outputs": [
        {
          "output_type": "stream",
          "name": "stdout",
          "text": [
            "Epoch 1/10\n",
            "43/43 [==============================] - 2s 23ms/step - loss: 4.0811 - accuracy: 0.0279 - val_loss: 3.7701 - val_accuracy: 0.0865\n",
            "Epoch 2/10\n",
            "43/43 [==============================] - 1s 18ms/step - loss: 2.7689 - accuracy: 0.2969 - val_loss: 2.1284 - val_accuracy: 0.4340\n",
            "Epoch 3/10\n",
            "43/43 [==============================] - 1s 17ms/step - loss: 1.5219 - accuracy: 0.5660 - val_loss: 1.5358 - val_accuracy: 0.5894\n",
            "Epoch 4/10\n",
            "43/43 [==============================] - 1s 18ms/step - loss: 0.9712 - accuracy: 0.7174 - val_loss: 1.3306 - val_accuracy: 0.6657\n",
            "Epoch 5/10\n",
            "43/43 [==============================] - 1s 17ms/step - loss: 0.6033 - accuracy: 0.8182 - val_loss: 1.3274 - val_accuracy: 0.6672\n",
            "Epoch 6/10\n",
            "43/43 [==============================] - 1s 18ms/step - loss: 0.4008 - accuracy: 0.8721 - val_loss: 1.3870 - val_accuracy: 0.6716\n",
            "Epoch 7/10\n",
            "43/43 [==============================] - 1s 18ms/step - loss: 0.3064 - accuracy: 0.9032 - val_loss: 1.3313 - val_accuracy: 0.6965\n",
            "Epoch 8/10\n",
            "43/43 [==============================] - 1s 18ms/step - loss: 0.1989 - accuracy: 0.9388 - val_loss: 1.5166 - val_accuracy: 0.6745\n",
            "Epoch 9/10\n",
            "43/43 [==============================] - 1s 18ms/step - loss: 0.1725 - accuracy: 0.9516 - val_loss: 1.4047 - val_accuracy: 0.6950\n",
            "Epoch 10/10\n",
            "43/43 [==============================] - 1s 19ms/step - loss: 0.1123 - accuracy: 0.9644 - val_loss: 1.4383 - val_accuracy: 0.6848\n"
          ]
        }
      ]
    },
    {
      "cell_type": "code",
      "source": [
        "plot_graphs(logs[MODEL_NAME], 'accuracy')"
      ],
      "metadata": {
        "colab": {
          "base_uri": "https://localhost:8080/",
          "height": 281
        },
        "id": "9l8dIZEXh1B8",
        "outputId": "d10a77d0-4c86-4870-a90b-5ac9acdb309b"
      },
      "execution_count": 54,
      "outputs": [
        {
          "output_type": "display_data",
          "data": {
            "text/plain": [
              "<Figure size 432x288 with 1 Axes>"
            ],
            "image/png": "[encoded data removed]"
          },
          "metadata": {
            "needs_background": "light"
          }
        }
      ]
    },
    {
      "cell_type": "markdown",
      "source": [
        "## Adding dropout\n",
        "implies to train for more epochs to reach similar accuracy"
      ],
      "metadata": {
        "id": "gdSBJRZ8kdSl"
      }
    },
    {
      "cell_type": "code",
      "source": [
        "model3 = Sequential([\n",
        "    Rescaling(1./255, input_shape=img_shape),\n",
        "    Conv2D(16, padding='same', kernel_size=(7,7), activation='relu'),\n",
        "    Dropout(0.4, seed=SEED),\n",
        "    MaxPooling2D(padding='same'),\n",
        "    Dropout(0.3, seed=SEED),\n",
        "    Conv2D(32, kernel_size=(5,5), activation='relu'),\n",
        "    Dropout(0.4, seed=SEED),\n",
        "    MaxPooling2D(),\n",
        "    Dropout(0.3, seed=SEED),\n",
        "    Conv2D(64, kernel_size=(5,5), activation='relu'),\n",
        "    Dropout(0.4, seed=SEED),\n",
        "    MaxPooling2D(),\n",
        "    Conv2D(128, padding='same', kernel_size=(3,3), activation='relu'),\n",
        "    MaxPooling2D(padding='same'),\n",
        "    Dropout(0.4, seed=SEED),\n",
        "    Conv2D(128, kernel_size=(3,3), activation='relu'),\n",
        "    MaxPooling2D(),\n",
        "    Flatten(),\n",
        "    Dense(256, activation='relu'),\n",
        "    Dense(num_classes, activation='softmax')\n",
        "])\n",
        "\n",
        "\n",
        "model3.compile(\n",
        "    optimizer=tf.keras.optimizers.Adam(learning_rate=learning_rate),\n",
        "    loss='sparse_categorical_crossentropy',\n",
        "    metrics=['accuracy']\n",
        "  )"
      ],
      "metadata": {
        "id": "QipHt_Q1j5sk"
      },
      "execution_count": 92,
      "outputs": []
    },
    {
      "cell_type": "code",
      "source": [
        "MODEL_NAME = 'dropout'\n",
        "EPOCHS=20\n",
        "\n",
        "logs[MODEL_NAME] = model3.fit(\n",
        "    train_ds,\n",
        "    validation_data = val_ds,\n",
        "    epochs = EPOCHS,\n",
        ")"
      ],
      "metadata": {
        "colab": {
          "base_uri": "https://localhost:8080/"
        },
        "id": "niTQqe2vl0Da",
        "outputId": "a784fd9d-d1aa-41f4-b6cb-6e54358f63ab"
      },
      "execution_count": 63,
      "outputs": [
        {
          "output_type": "stream",
          "name": "stdout",
          "text": [
            "Epoch 1/20\n",
            "43/43 [==============================] - 2s 28ms/step - loss: 4.1406 - accuracy: 0.0154 - val_loss: 4.1276 - val_accuracy: 0.0059\n",
            "Epoch 2/20\n",
            "43/43 [==============================] - 1s 24ms/step - loss: 4.1265 - accuracy: 0.0180 - val_loss: 4.1277 - val_accuracy: 0.0161\n",
            "Epoch 3/20\n",
            "43/43 [==============================] - 1s 24ms/step - loss: 4.0197 - accuracy: 0.0363 - val_loss: 3.9924 - val_accuracy: 0.0630\n",
            "Epoch 4/20\n",
            "43/43 [==============================] - 1s 24ms/step - loss: 3.4048 - accuracy: 0.1096 - val_loss: 3.4974 - val_accuracy: 0.1672\n",
            "Epoch 5/20\n",
            "43/43 [==============================] - 1s 24ms/step - loss: 2.7384 - accuracy: 0.2258 - val_loss: 3.1861 - val_accuracy: 0.2742\n",
            "Epoch 6/20\n",
            "43/43 [==============================] - 1s 24ms/step - loss: 2.2122 - accuracy: 0.3677 - val_loss: 2.6287 - val_accuracy: 0.4164\n",
            "Epoch 7/20\n",
            "43/43 [==============================] - 1s 24ms/step - loss: 1.7601 - accuracy: 0.4714 - val_loss: 2.2999 - val_accuracy: 0.4663\n",
            "Epoch 8/20\n",
            "43/43 [==============================] - 1s 24ms/step - loss: 1.4858 - accuracy: 0.5616 - val_loss: 2.1799 - val_accuracy: 0.5235\n",
            "Epoch 9/20\n",
            "43/43 [==============================] - 1s 24ms/step - loss: 1.1298 - accuracy: 0.6543 - val_loss: 1.8937 - val_accuracy: 0.6349\n",
            "Epoch 10/20\n",
            "43/43 [==============================] - 1s 24ms/step - loss: 0.9241 - accuracy: 0.7078 - val_loss: 1.6918 - val_accuracy: 0.6598\n",
            "Epoch 11/20\n",
            "43/43 [==============================] - 1s 24ms/step - loss: 0.7963 - accuracy: 0.7515 - val_loss: 1.5764 - val_accuracy: 0.6950\n",
            "Epoch 12/20\n",
            "43/43 [==============================] - 1s 24ms/step - loss: 0.6876 - accuracy: 0.7874 - val_loss: 1.4173 - val_accuracy: 0.7229\n",
            "Epoch 13/20\n",
            "43/43 [==============================] - 1s 24ms/step - loss: 0.5794 - accuracy: 0.8046 - val_loss: 1.4061 - val_accuracy: 0.7067\n",
            "Epoch 14/20\n",
            "43/43 [==============================] - 1s 24ms/step - loss: 0.5180 - accuracy: 0.8222 - val_loss: 1.3354 - val_accuracy: 0.6950\n",
            "Epoch 15/20\n",
            "43/43 [==============================] - 1s 24ms/step - loss: 0.4744 - accuracy: 0.8325 - val_loss: 1.2079 - val_accuracy: 0.7302\n",
            "Epoch 16/20\n",
            "43/43 [==============================] - 1s 24ms/step - loss: 0.4341 - accuracy: 0.8600 - val_loss: 1.2839 - val_accuracy: 0.6950\n",
            "Epoch 17/20\n",
            "43/43 [==============================] - 1s 24ms/step - loss: 0.3926 - accuracy: 0.8677 - val_loss: 1.1348 - val_accuracy: 0.7273\n",
            "Epoch 18/20\n",
            "43/43 [==============================] - 1s 24ms/step - loss: 0.3817 - accuracy: 0.8567 - val_loss: 1.1626 - val_accuracy: 0.7214\n",
            "Epoch 19/20\n",
            "43/43 [==============================] - 1s 24ms/step - loss: 0.3275 - accuracy: 0.8849 - val_loss: 0.9915 - val_accuracy: 0.7478\n",
            "Epoch 20/20\n",
            "43/43 [==============================] - 1s 24ms/step - loss: 0.3396 - accuracy: 0.8838 - val_loss: 1.0673 - val_accuracy: 0.7639\n"
          ]
        }
      ]
    },
    {
      "cell_type": "code",
      "source": [
        "plot_graphs(logs[MODEL_NAME], 'accuracy')"
      ],
      "metadata": {
        "colab": {
          "base_uri": "https://localhost:8080/",
          "height": 279
        },
        "id": "LD2zj5mZl7Hb",
        "outputId": "fb6d2ee0-f7b0-4d82-bc3e-befcd81ab4af"
      },
      "execution_count": 64,
      "outputs": [
        {
          "output_type": "display_data",
          "data": {
            "text/plain": [
              "<Figure size 432x288 with 1 Axes>"
            ],
            "image/png": "[encoded data removed]"
          },
          "metadata": {
            "needs_background": "light"
          }
        }
      ]
    },
    {
      "cell_type": "markdown",
      "source": [
        "## Data augmentation"
      ],
      "metadata": {
        "id": "hT4xg-SJvre_"
      }
    },
    {
      "cell_type": "code",
      "source": [
        "data_augmentation = Sequential(\n",
        "  [\n",
        "    GaussianNoise(0.3),\n",
        "    RandomRotation((-0.1, 0.1), seed=SEED),\n",
        "    RandomZoom(0.1, 0.1,  seed=SEED),\n",
        "  ]\n",
        ")\n",
        "\n",
        "model4 = Sequential([\n",
        "    data_augmentation,\n",
        "    tf.keras.models.clone_model(model3)\n",
        "])\n",
        "\n",
        "model4.compile(\n",
        "    optimizer=tf.keras.optimizers.Adam(learning_rate=learning_rate),\n",
        "    loss='sparse_categorical_crossentropy',\n",
        "    metrics=['accuracy']\n",
        "  )\n"
      ],
      "metadata": {
        "id": "_yaMLwjQvvrO"
      },
      "execution_count": 93,
      "outputs": []
    },
    {
      "cell_type": "code",
      "source": [
        "MODEL_NAME = 'data_augmentation'\n",
        "\n",
        "EPOCHS=30\n",
        "logs[MODEL_NAME] = model4.fit(\n",
        "    train_ds,\n",
        "    validation_data = val_ds,\n",
        "    epochs = EPOCHS\n",
        ")"
      ],
      "metadata": {
        "colab": {
          "base_uri": "https://localhost:8080/"
        },
        "id": "5eJERiaEwkJ0",
        "outputId": "a695ab51-9532-4a74-bbaa-7992e877e429"
      },
      "execution_count": 73,
      "outputs": [
        {
          "output_type": "stream",
          "name": "stdout",
          "text": [
            "Epoch 1/30\n",
            "43/43 [==============================] - 3s 29ms/step - loss: 4.1456 - accuracy: 0.0169 - val_loss: 4.1280 - val_accuracy: 0.0103\n",
            "Epoch 2/30\n",
            "43/43 [==============================] - 1s 25ms/step - loss: 4.1274 - accuracy: 0.0172 - val_loss: 4.1291 - val_accuracy: 0.0088\n",
            "Epoch 3/30\n",
            "43/43 [==============================] - 1s 25ms/step - loss: 4.1267 - accuracy: 0.0187 - val_loss: 4.1305 - val_accuracy: 0.0088\n",
            "Epoch 4/30\n",
            "43/43 [==============================] - 1s 25ms/step - loss: 4.1073 - accuracy: 0.0246 - val_loss: 4.0567 - val_accuracy: 0.0469\n",
            "Epoch 5/30\n",
            "43/43 [==============================] - 1s 25ms/step - loss: 3.8046 - accuracy: 0.0711 - val_loss: 3.6944 - val_accuracy: 0.0924\n",
            "Epoch 6/30\n",
            "43/43 [==============================] - 1s 25ms/step - loss: 3.3824 - accuracy: 0.1250 - val_loss: 3.4783 - val_accuracy: 0.1628\n",
            "Epoch 7/30\n",
            "43/43 [==============================] - 1s 25ms/step - loss: 3.0007 - accuracy: 0.1785 - val_loss: 3.1405 - val_accuracy: 0.2243\n",
            "Epoch 8/30\n",
            "43/43 [==============================] - 1s 25ms/step - loss: 2.7223 - accuracy: 0.2529 - val_loss: 2.8043 - val_accuracy: 0.3328\n",
            "Epoch 9/30\n",
            "43/43 [==============================] - 1s 25ms/step - loss: 2.3091 - accuracy: 0.3486 - val_loss: 2.4661 - val_accuracy: 0.4780\n",
            "Epoch 10/30\n",
            "43/43 [==============================] - 1s 25ms/step - loss: 1.8735 - accuracy: 0.4567 - val_loss: 2.0287 - val_accuracy: 0.6070\n",
            "Epoch 11/30\n",
            "43/43 [==============================] - 1s 25ms/step - loss: 1.5915 - accuracy: 0.5367 - val_loss: 1.8205 - val_accuracy: 0.6320\n",
            "Epoch 12/30\n",
            "43/43 [==============================] - 1s 25ms/step - loss: 1.3651 - accuracy: 0.5872 - val_loss: 1.7139 - val_accuracy: 0.6760\n",
            "Epoch 13/30\n",
            "43/43 [==============================] - 1s 25ms/step - loss: 1.2336 - accuracy: 0.6206 - val_loss: 1.6694 - val_accuracy: 0.6672\n",
            "Epoch 14/30\n",
            "43/43 [==============================] - 1s 25ms/step - loss: 1.1931 - accuracy: 0.6349 - val_loss: 1.6027 - val_accuracy: 0.6950\n",
            "Epoch 15/30\n",
            "43/43 [==============================] - 1s 27ms/step - loss: 1.0457 - accuracy: 0.6763 - val_loss: 1.4422 - val_accuracy: 0.7302\n",
            "Epoch 16/30\n",
            "43/43 [==============================] - 1s 25ms/step - loss: 0.9781 - accuracy: 0.6917 - val_loss: 1.3911 - val_accuracy: 0.7375\n",
            "Epoch 17/30\n",
            "43/43 [==============================] - 1s 25ms/step - loss: 0.9461 - accuracy: 0.6998 - val_loss: 1.3890 - val_accuracy: 0.7126\n",
            "Epoch 18/30\n",
            "43/43 [==============================] - 1s 25ms/step - loss: 0.8578 - accuracy: 0.7203 - val_loss: 1.2890 - val_accuracy: 0.7317\n",
            "Epoch 19/30\n",
            "43/43 [==============================] - 1s 25ms/step - loss: 0.8234 - accuracy: 0.7379 - val_loss: 1.2566 - val_accuracy: 0.7493\n",
            "Epoch 20/30\n",
            "43/43 [==============================] - 1s 25ms/step - loss: 0.7548 - accuracy: 0.7544 - val_loss: 1.2425 - val_accuracy: 0.7610\n",
            "Epoch 21/30\n",
            "43/43 [==============================] - 1s 25ms/step - loss: 0.7492 - accuracy: 0.7621 - val_loss: 1.1176 - val_accuracy: 0.7757\n",
            "Epoch 22/30\n",
            "43/43 [==============================] - 1s 25ms/step - loss: 0.6826 - accuracy: 0.7716 - val_loss: 1.1689 - val_accuracy: 0.7243\n",
            "Epoch 23/30\n",
            "43/43 [==============================] - 1s 25ms/step - loss: 0.6750 - accuracy: 0.7797 - val_loss: 1.0336 - val_accuracy: 0.7683\n",
            "Epoch 24/30\n",
            "43/43 [==============================] - 1s 25ms/step - loss: 0.6949 - accuracy: 0.7742 - val_loss: 1.0965 - val_accuracy: 0.7639\n",
            "Epoch 25/30\n",
            "43/43 [==============================] - 1s 25ms/step - loss: 0.5907 - accuracy: 0.7973 - val_loss: 1.0918 - val_accuracy: 0.7713\n",
            "Epoch 26/30\n",
            "43/43 [==============================] - 1s 25ms/step - loss: 0.5920 - accuracy: 0.8010 - val_loss: 1.0409 - val_accuracy: 0.7742\n",
            "Epoch 27/30\n",
            "43/43 [==============================] - 1s 25ms/step - loss: 0.6029 - accuracy: 0.8002 - val_loss: 0.9902 - val_accuracy: 0.7625\n",
            "Epoch 28/30\n",
            "43/43 [==============================] - 1s 25ms/step - loss: 0.5638 - accuracy: 0.8090 - val_loss: 1.1557 - val_accuracy: 0.7449\n",
            "Epoch 29/30\n",
            "43/43 [==============================] - 1s 25ms/step - loss: 0.5557 - accuracy: 0.8174 - val_loss: 1.0445 - val_accuracy: 0.7801\n",
            "Epoch 30/30\n",
            "43/43 [==============================] - 1s 25ms/step - loss: 0.5734 - accuracy: 0.8039 - val_loss: 1.0576 - val_accuracy: 0.7786\n"
          ]
        }
      ]
    },
    {
      "cell_type": "code",
      "source": [
        "plot_graphs(logs[MODEL_NAME], 'accuracy')"
      ],
      "metadata": {
        "colab": {
          "base_uri": "https://localhost:8080/",
          "height": 279
        },
        "id": "nJUesghOyDne",
        "outputId": "1afa27f1-700d-41fd-8f13-bd62b70011f4"
      },
      "execution_count": 74,
      "outputs": [
        {
          "output_type": "display_data",
          "data": {
            "text/plain": [
              "<Figure size 432x288 with 1 Axes>"
            ],
            "image/png": "[encoded data removed]"
          },
          "metadata": {
            "needs_background": "light"
          }
        }
      ]
    },
    {
      "cell_type": "markdown",
      "source": [
        "## Adjusting learning rate \n",
        "adding callbacks to adjust learning rate and do early stopping"
      ],
      "metadata": {
        "id": "Vc3jqIfKoOit"
      }
    },
    {
      "cell_type": "code",
      "source": [
        "# early stopping\n",
        "cb_EarlyStopping = tf.keras.callbacks.EarlyStopping(\n",
        "    monitor='val_loss',\n",
        "    min_delta=1e-4,\n",
        "    patience=10,\n",
        "    verbose=1,\n",
        "    restore_best_weights=True,\n",
        ")\n",
        "\n",
        "# learning rate scheduler\n",
        "def scheduler(epoch, lr):\n",
        "  if epoch < 35:\n",
        "    return lr\n",
        "  else:\n",
        "    return lr * tf.math.exp(-0.005*epoch)\n",
        "\n",
        "cb_LRScheduler = tf.keras.callbacks.LearningRateScheduler(scheduler)"
      ],
      "metadata": {
        "id": "X-nO0qfLol-e"
      },
      "execution_count": 138,
      "outputs": []
    },
    {
      "cell_type": "code",
      "source": [
        "model5=tf.keras.models.clone_model(model4)\n",
        "MODEL_NAME = 'adjusted_learning_rate'\n",
        "\n",
        "model5.compile(\n",
        "    optimizer=tf.keras.optimizers.Adam(learning_rate=learning_rate),\n",
        "    loss='sparse_categorical_crossentropy',\n",
        "    metrics=['accuracy']\n",
        "  )\n",
        "\n",
        "EPOCHS=60\n",
        "\n",
        "logs[MODEL_NAME] = model5.fit(\n",
        "    train_ds,\n",
        "    validation_data = val_ds,\n",
        "    epochs = EPOCHS,\n",
        "    callbacks=[cb_EarlyStopping, cb_LRScheduler]\n",
        ")"
      ],
      "metadata": {
        "colab": {
          "base_uri": "https://localhost:8080/"
        },
        "id": "Z3qRjA61otLO",
        "outputId": "6257b54e-5f3a-42fc-a194-cda63c3f0553"
      },
      "execution_count": 140,
      "outputs": [
        {
          "output_type": "stream",
          "name": "stdout",
          "text": [
            "Epoch 1/60\n",
            "43/43 [==============================] - 3s 29ms/step - loss: 4.1475 - accuracy: 0.0194 - val_loss: 4.1280 - val_accuracy: 0.0103 - lr: 0.0010\n",
            "Epoch 2/60\n",
            "43/43 [==============================] - 1s 26ms/step - loss: 4.1274 - accuracy: 0.0114 - val_loss: 4.1288 - val_accuracy: 0.0073 - lr: 0.0010\n",
            "Epoch 3/60\n",
            "43/43 [==============================] - 1s 25ms/step - loss: 4.1268 - accuracy: 0.0161 - val_loss: 4.1303 - val_accuracy: 0.0147 - lr: 0.0010\n",
            "Epoch 4/60\n",
            "43/43 [==============================] - 1s 25ms/step - loss: 4.0949 - accuracy: 0.0260 - val_loss: 4.0343 - val_accuracy: 0.0528 - lr: 0.0010\n",
            "Epoch 5/60\n",
            "43/43 [==============================] - 1s 25ms/step - loss: 3.8165 - accuracy: 0.0543 - val_loss: 3.7404 - val_accuracy: 0.1070 - lr: 0.0010\n",
            "Epoch 6/60\n",
            "43/43 [==============================] - 1s 25ms/step - loss: 3.3364 - accuracy: 0.1221 - val_loss: 3.4189 - val_accuracy: 0.2449 - lr: 0.0010\n",
            "Epoch 7/60\n",
            "43/43 [==============================] - 1s 25ms/step - loss: 2.8375 - accuracy: 0.2335 - val_loss: 2.9770 - val_accuracy: 0.3974 - lr: 0.0010\n",
            "Epoch 8/60\n",
            "43/43 [==============================] - 1s 25ms/step - loss: 2.3223 - accuracy: 0.3427 - val_loss: 2.5685 - val_accuracy: 0.4971 - lr: 0.0010\n",
            "Epoch 9/60\n",
            "43/43 [==============================] - 1s 25ms/step - loss: 1.8289 - accuracy: 0.4670 - val_loss: 2.0212 - val_accuracy: 0.6158 - lr: 0.0010\n",
            "Epoch 10/60\n",
            "43/43 [==============================] - 1s 25ms/step - loss: 1.5826 - accuracy: 0.5389 - val_loss: 2.0963 - val_accuracy: 0.6496 - lr: 0.0010\n",
            "Epoch 11/60\n",
            "43/43 [==============================] - 1s 25ms/step - loss: 1.3842 - accuracy: 0.5817 - val_loss: 1.8514 - val_accuracy: 0.6760 - lr: 0.0010\n",
            "Epoch 12/60\n",
            "43/43 [==============================] - 1s 25ms/step - loss: 1.2196 - accuracy: 0.6294 - val_loss: 1.6490 - val_accuracy: 0.7082 - lr: 0.0010\n",
            "Epoch 13/60\n",
            "43/43 [==============================] - 1s 25ms/step - loss: 1.1329 - accuracy: 0.6569 - val_loss: 1.5755 - val_accuracy: 0.7361 - lr: 0.0010\n",
            "Epoch 14/60\n",
            "43/43 [==============================] - 1s 24ms/step - loss: 1.0528 - accuracy: 0.6749 - val_loss: 1.5409 - val_accuracy: 0.7302 - lr: 0.0010\n",
            "Epoch 15/60\n",
            "43/43 [==============================] - 1s 25ms/step - loss: 0.9597 - accuracy: 0.6979 - val_loss: 1.5382 - val_accuracy: 0.7390 - lr: 0.0010\n",
            "Epoch 16/60\n",
            "43/43 [==============================] - 1s 25ms/step - loss: 0.9283 - accuracy: 0.6913 - val_loss: 1.4400 - val_accuracy: 0.7419 - lr: 0.0010\n",
            "Epoch 17/60\n",
            "43/43 [==============================] - 1s 25ms/step - loss: 0.8442 - accuracy: 0.7247 - val_loss: 1.3266 - val_accuracy: 0.7625 - lr: 0.0010\n",
            "Epoch 18/60\n",
            "43/43 [==============================] - 1s 25ms/step - loss: 0.8106 - accuracy: 0.7445 - val_loss: 1.4818 - val_accuracy: 0.7405 - lr: 0.0010\n",
            "Epoch 19/60\n",
            "43/43 [==============================] - 1s 24ms/step - loss: 0.7476 - accuracy: 0.7606 - val_loss: 1.1972 - val_accuracy: 0.7859 - lr: 0.0010\n",
            "Epoch 20/60\n",
            "43/43 [==============================] - 1s 24ms/step - loss: 0.7352 - accuracy: 0.7555 - val_loss: 1.2197 - val_accuracy: 0.7625 - lr: 0.0010\n",
            "Epoch 21/60\n",
            "43/43 [==============================] - 1s 24ms/step - loss: 0.7871 - accuracy: 0.7460 - val_loss: 1.3001 - val_accuracy: 0.7610 - lr: 0.0015\n",
            "Epoch 22/60\n",
            "43/43 [==============================] - 1s 24ms/step - loss: 0.7844 - accuracy: 0.7438 - val_loss: 1.2913 - val_accuracy: 0.7566 - lr: 0.0015\n",
            "Epoch 23/60\n",
            "43/43 [==============================] - 1s 25ms/step - loss: 0.7268 - accuracy: 0.7672 - val_loss: 1.2712 - val_accuracy: 0.7493 - lr: 0.0015\n",
            "Epoch 24/60\n",
            "43/43 [==============================] - 1s 25ms/step - loss: 0.7149 - accuracy: 0.7680 - val_loss: 1.2642 - val_accuracy: 0.7713 - lr: 0.0015\n",
            "Epoch 25/60\n",
            "43/43 [==============================] - 1s 25ms/step - loss: 0.6432 - accuracy: 0.7929 - val_loss: 1.1343 - val_accuracy: 0.7566 - lr: 0.0015\n",
            "Epoch 26/60\n",
            "43/43 [==============================] - 1s 25ms/step - loss: 0.6640 - accuracy: 0.7823 - val_loss: 1.0367 - val_accuracy: 0.7903 - lr: 0.0015\n",
            "Epoch 27/60\n",
            "43/43 [==============================] - 1s 25ms/step - loss: 0.6617 - accuracy: 0.7900 - val_loss: 1.1512 - val_accuracy: 0.7947 - lr: 0.0015\n",
            "Epoch 28/60\n",
            "43/43 [==============================] - 1s 25ms/step - loss: 0.6105 - accuracy: 0.7944 - val_loss: 0.9697 - val_accuracy: 0.7786 - lr: 0.0015\n",
            "Epoch 29/60\n",
            "43/43 [==============================] - 1s 25ms/step - loss: 0.5540 - accuracy: 0.8130 - val_loss: 0.8913 - val_accuracy: 0.8035 - lr: 0.0015\n",
            "Epoch 30/60\n",
            "43/43 [==============================] - 1s 25ms/step - loss: 0.5441 - accuracy: 0.8215 - val_loss: 1.1943 - val_accuracy: 0.7625 - lr: 0.0015\n",
            "Epoch 31/60\n",
            "43/43 [==============================] - 1s 25ms/step - loss: 0.5139 - accuracy: 0.8255 - val_loss: 1.0250 - val_accuracy: 0.7889 - lr: 0.0015\n",
            "Epoch 32/60\n",
            "43/43 [==============================] - 1s 25ms/step - loss: 0.5130 - accuracy: 0.8237 - val_loss: 1.1009 - val_accuracy: 0.7595 - lr: 0.0015\n",
            "Epoch 33/60\n",
            "43/43 [==============================] - 1s 29ms/step - loss: 0.5317 - accuracy: 0.8178 - val_loss: 1.1115 - val_accuracy: 0.7801 - lr: 0.0015\n",
            "Epoch 34/60\n",
            "43/43 [==============================] - 1s 25ms/step - loss: 0.4762 - accuracy: 0.8303 - val_loss: 0.9823 - val_accuracy: 0.7742 - lr: 0.0015\n",
            "Epoch 35/60\n",
            "43/43 [==============================] - 1s 25ms/step - loss: 0.4647 - accuracy: 0.8383 - val_loss: 0.8558 - val_accuracy: 0.7947 - lr: 0.0015\n",
            "Epoch 36/60\n",
            "43/43 [==============================] - 1s 24ms/step - loss: 0.4587 - accuracy: 0.8435 - val_loss: 0.9229 - val_accuracy: 0.7918 - lr: 0.0013\n",
            "Epoch 37/60\n",
            "43/43 [==============================] - 1s 25ms/step - loss: 0.3825 - accuracy: 0.8640 - val_loss: 0.7855 - val_accuracy: 0.7933 - lr: 0.0011\n",
            "Epoch 38/60\n",
            "43/43 [==============================] - 1s 24ms/step - loss: 0.3913 - accuracy: 0.8688 - val_loss: 0.8554 - val_accuracy: 0.7962 - lr: 8.7412e-04\n",
            "Epoch 39/60\n",
            "43/43 [==============================] - 1s 25ms/step - loss: 0.3387 - accuracy: 0.8875 - val_loss: 0.8435 - val_accuracy: 0.7947 - lr: 7.2286e-04\n",
            "Epoch 40/60\n",
            "43/43 [==============================] - 1s 25ms/step - loss: 0.3106 - accuracy: 0.8882 - val_loss: 0.7591 - val_accuracy: 0.8021 - lr: 5.9480e-04\n",
            "Epoch 41/60\n",
            "43/43 [==============================] - 1s 30ms/step - loss: 0.3249 - accuracy: 0.8809 - val_loss: 0.7611 - val_accuracy: 0.8079 - lr: 4.8698e-04\n",
            "Epoch 42/60\n",
            "43/43 [==============================] - 1s 25ms/step - loss: 0.2991 - accuracy: 0.8867 - val_loss: 0.7638 - val_accuracy: 0.7991 - lr: 3.9672e-04\n",
            "Epoch 43/60\n",
            "43/43 [==============================] - 1s 25ms/step - loss: 0.2619 - accuracy: 0.9018 - val_loss: 0.7321 - val_accuracy: 0.7933 - lr: 3.2157e-04\n",
            "Epoch 44/60\n",
            "43/43 [==============================] - 1s 25ms/step - loss: 0.2471 - accuracy: 0.9146 - val_loss: 0.7247 - val_accuracy: 0.8079 - lr: 2.5936e-04\n",
            "Epoch 45/60\n",
            "43/43 [==============================] - 1s 25ms/step - loss: 0.2443 - accuracy: 0.9153 - val_loss: 0.6984 - val_accuracy: 0.8138 - lr: 2.0814e-04\n",
            "Epoch 46/60\n",
            "43/43 [==============================] - 1s 25ms/step - loss: 0.2412 - accuracy: 0.9131 - val_loss: 0.7054 - val_accuracy: 0.8065 - lr: 1.6620e-04\n",
            "Epoch 47/60\n",
            "43/43 [==============================] - 1s 25ms/step - loss: 0.2400 - accuracy: 0.9146 - val_loss: 0.6961 - val_accuracy: 0.8050 - lr: 1.3206e-04\n",
            "Epoch 48/60\n",
            "43/43 [==============================] - 1s 25ms/step - loss: 0.2225 - accuracy: 0.9175 - val_loss: 0.6877 - val_accuracy: 0.8021 - lr: 1.0440e-04\n",
            "Epoch 49/60\n",
            "43/43 [==============================] - 1s 25ms/step - loss: 0.2483 - accuracy: 0.9109 - val_loss: 0.6868 - val_accuracy: 0.8006 - lr: 8.2123e-05\n",
            "Epoch 50/60\n",
            "43/43 [==============================] - 1s 25ms/step - loss: 0.2311 - accuracy: 0.9157 - val_loss: 0.6914 - val_accuracy: 0.8079 - lr: 6.4278e-05\n",
            "Epoch 51/60\n",
            "43/43 [==============================] - 1s 25ms/step - loss: 0.2019 - accuracy: 0.9267 - val_loss: 0.6864 - val_accuracy: 0.8050 - lr: 5.0060e-05\n",
            "Epoch 52/60\n",
            "43/43 [==============================] - 1s 25ms/step - loss: 0.2254 - accuracy: 0.9150 - val_loss: 0.6820 - val_accuracy: 0.8094 - lr: 3.8792e-05\n",
            "Epoch 53/60\n",
            "43/43 [==============================] - 1s 25ms/step - loss: 0.2022 - accuracy: 0.9263 - val_loss: 0.6797 - val_accuracy: 0.8109 - lr: 2.9911e-05\n",
            "Epoch 54/60\n",
            "43/43 [==============================] - 1s 25ms/step - loss: 0.2246 - accuracy: 0.9190 - val_loss: 0.6775 - val_accuracy: 0.8079 - lr: 2.2948e-05\n",
            "Epoch 55/60\n",
            "43/43 [==============================] - 1s 25ms/step - loss: 0.2053 - accuracy: 0.9241 - val_loss: 0.6787 - val_accuracy: 0.8065 - lr: 1.7518e-05\n",
            "Epoch 56/60\n",
            "43/43 [==============================] - 1s 24ms/step - loss: 0.2135 - accuracy: 0.9234 - val_loss: 0.6778 - val_accuracy: 0.8079 - lr: 1.3306e-05\n",
            "Epoch 57/60\n",
            "43/43 [==============================] - 1s 25ms/step - loss: 0.1998 - accuracy: 0.9282 - val_loss: 0.6763 - val_accuracy: 0.8079 - lr: 1.0057e-05\n",
            "Epoch 58/60\n",
            "43/43 [==============================] - 1s 24ms/step - loss: 0.2140 - accuracy: 0.9212 - val_loss: 0.6762 - val_accuracy: 0.8079 - lr: 7.5626e-06\n",
            "Epoch 59/60\n",
            "43/43 [==============================] - 1s 25ms/step - loss: 0.2401 - accuracy: 0.9120 - val_loss: 0.6768 - val_accuracy: 0.8079 - lr: 5.6589e-06\n",
            "Epoch 60/60\n",
            "43/43 [==============================] - 1s 24ms/step - loss: 0.2103 - accuracy: 0.9263 - val_loss: 0.6768 - val_accuracy: 0.8079 - lr: 4.2132e-06\n"
          ]
        }
      ]
    },
    {
      "cell_type": "code",
      "source": [
        "plot_graphs(logs[MODEL_NAME], 'accuracy')\n",
        "\n",
        "plt.plot(logs[MODEL_NAME].history['lr'])\n",
        "plt.xlabel(\"Epochs\")\n",
        "plt.ylabel('learning rate')\n",
        "plt.show()"
      ],
      "metadata": {
        "colab": {
          "base_uri": "https://localhost:8080/",
          "height": 541
        },
        "id": "js358EIYpR9n",
        "outputId": "f4d82094-2288-4bdb-9fa3-f30df17a5203"
      },
      "execution_count": 141,
      "outputs": [
        {
          "output_type": "display_data",
          "data": {
            "text/plain": [
              "<Figure size 432x288 with 1 Axes>"
            ],
            "image/png": "[encoded data removed]"
          },
          "metadata": {
            "needs_background": "light"
          }
        },
        {
          "output_type": "display_data",
          "data": {
            "text/plain": [
              "<Figure size 432x288 with 1 Axes>"
            ],
            "image/png": "[encoded data removed]"
          },
          "metadata": {
            "needs_background": "light"
          }
        }
      ]
    },
    {
      "cell_type": "code",
      "source": [
        "model5.save(\"model.h5\")"
      ],
      "metadata": {
        "id": "683Run-2MglU"
      },
      "execution_count": 131,
      "outputs": []
    },
    {
      "cell_type": "markdown",
      "source": [
        "Plot wrong predictions"
      ],
      "metadata": {
        "id": "n4qPFg_cP76k"
      }
    },
    {
      "cell_type": "code",
      "source": [
        "predictions = model5.predict(val_ds)\n",
        "i=0\n",
        "for image, label in val_ds:\n",
        "  if np.argmax(predictions[i]) != label[i]:\n",
        "    title=int_to_label[np.argmax(predictions[i])] + \" instead of \" + int_to_label[label.numpy()[i]]\n",
        "    plot_char(image[i], title)\n",
        "  i+=1\n"
      ],
      "metadata": {
        "id": "ezks7_MWQtui",
        "outputId": "31b7d9a8-0676-4507-9e5f-0f54329f6eb8",
        "colab": {
          "base_uri": "https://localhost:8080/",
          "height": 1000
        }
      },
      "execution_count": 170,
      "outputs": [
        {
          "output_type": "stream",
          "name": "stdout",
          "text": [
            "11/11 [==============================] - 0s 7ms/step\n"
          ]
        },
        {
          "output_type": "display_data",
          "data": {
            "text/plain": [
              "<Figure size 144x144 with 1 Axes>"
            ],
            "image/png": "[encoded data removed]"
          },
          "metadata": {
            "needs_background": "light"
          }
        },
        {
          "output_type": "display_data",
          "data": {
            "text/plain": [
              "<Figure size 144x144 with 1 Axes>"
            ],
            "image/png": "[encoded data removed]"
          },
          "metadata": {
            "needs_background": "light"
          }
        },
        {
          "output_type": "display_data",
          "data": {
            "text/plain": [
              "<Figure size 144x144 with 1 Axes>"
            ],
            "image/png": "[encoded data removed]"
          },
          "metadata": {
            "needs_background": "light"
          }
        },
        {
          "output_type": "display_data",
          "data": {
            "text/plain": [
              "<Figure size 144x144 with 1 Axes>"
            ],
            "image/png": "[encoded data removed]"
          },
          "metadata": {
            "needs_background": "light"
          }
        },
        {
          "output_type": "display_data",
          "data": {
            "text/plain": [
              "<Figure size 144x144 with 1 Axes>"
            ],
            "image/png": "[encoded data removed]"
          },
          "metadata": {
            "needs_background": "light"
          }
        },
        {
          "output_type": "display_data",
          "data": {
            "text/plain": [
              "<Figure size 144x144 with 1 Axes>"
            ],
            "image/png": "[encoded data removed]"
          },
          "metadata": {
            "needs_background": "light"
          }
        },
        {
          "output_type": "display_data",
          "data": {
            "text/plain": [
              "<Figure size 144x144 with 1 Axes>"
            ],
            "image/png": "[encoded data removed]"
          },
          "metadata": {
            "needs_background": "light"
          }
        },
        {
          "output_type": "display_data",
          "data": {
            "text/plain": [
              "<Figure size 144x144 with 1 Axes>"
            ],
            "image/png": "[encoded data removed]"
          },
          "metadata": {
            "needs_background": "light"
          }
        },
        {
          "output_type": "display_data",
          "data": {
            "text/plain": [
              "<Figure size 144x144 with 1 Axes>"
            ],
            "image/png": "[encoded data removed]"
          },
          "metadata": {
            "needs_background": "light"
          }
        },
        {
          "output_type": "display_data",
          "data": {
            "text/plain": [
              "<Figure size 144x144 with 1 Axes>"
            ],
            "image/png": "[encoded data removed]"
          },
          "metadata": {
            "needs_background": "light"
          }
        }
      ]
    }
  ]
}